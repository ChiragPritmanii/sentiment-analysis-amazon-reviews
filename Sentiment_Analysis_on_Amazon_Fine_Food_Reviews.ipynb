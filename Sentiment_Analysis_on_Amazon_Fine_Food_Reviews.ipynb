{
  "nbformat": 4,
  "nbformat_minor": 0,
  "metadata": {
    "kernelspec": {
      "display_name": "Python 3",
      "language": "python",
      "name": "python3"
    },
    "language_info": {
      "codemirror_mode": {
        "name": "ipython",
        "version": 3
      },
      "file_extension": ".py",
      "mimetype": "text/x-python",
      "name": "python",
      "nbconvert_exporter": "python",
      "pygments_lexer": "ipython3",
      "version": "3.6.9"
    },
    "colab": {
      "name": "Sentiment Analysis on Amazon Fine Food Reviews.ipynb",
      "provenance": [],
      "collapsed_sections": []
    },
    "accelerator": "GPU",
    "gpuClass": "standard"
  },
  "cells": [
    {
      "cell_type": "markdown",
      "source": [
        "# Sentiment Analysis on Amazon Fine Food Reviews "
      ],
      "metadata": {
        "id": "PikswCT2lfr5"
      }
    },
    {
      "cell_type": "markdown",
      "source": [
        "**Approach:**\n",
        "1. Preprocessing \n",
        "2. Creating a BERT model from the Tensorflow HUB.\n",
        "3. Tokenization\n",
        "4. Getting the pretrained embedding Vector for a given review from the BERT.\n",
        "5. Using the embedding data apply NN and classify the reviews.\n",
        "6. Creating a Data pipeline for BERT Model. "
      ],
      "metadata": {
        "id": "Y5f6jnZ1pnpS"
      }
    },
    {
      "cell_type": "markdown",
      "source": [
        "## Loading Data"
      ],
      "metadata": {
        "id": "iclZGxncsqZu"
      }
    },
    {
      "cell_type": "code",
      "metadata": {
        "colab": {
          "base_uri": "https://localhost:8080/"
        },
        "id": "NUGbEZafwwzX",
        "outputId": "347d1891-97ea-41a1-8de3-f4e80f6c7659"
      },
      "source": [
        "!gdown --id 1GsD8JlAc_0yJ-1151LNr6rLw83RRUPgt\n",
        "!gdown --id 13exfXiyiByluh1PfYK1EyZyizqxeCVG9"
      ],
      "execution_count": null,
      "outputs": [
        {
          "output_type": "stream",
          "name": "stdout",
          "text": [
            "/usr/local/lib/python3.7/dist-packages/gdown/cli.py:131: FutureWarning: Option `--id` was deprecated in version 4.3.1 and will be removed in 5.0. You don't need to pass it anymore to use a file ID.\n",
            "  category=FutureWarning,\n",
            "Downloading...\n",
            "From: https://drive.google.com/uc?id=1GsD8JlAc_0yJ-1151LNr6rLw83RRUPgt\n",
            "To: /content/Reviews.csv\n",
            "100% 301M/301M [00:04<00:00, 67.7MB/s]\n",
            "/usr/local/lib/python3.7/dist-packages/gdown/cli.py:131: FutureWarning: Option `--id` was deprecated in version 4.3.1 and will be removed in 5.0. You don't need to pass it anymore to use a file ID.\n",
            "  category=FutureWarning,\n",
            "Downloading...\n",
            "From: https://drive.google.com/uc?id=13exfXiyiByluh1PfYK1EyZyizqxeCVG9\n",
            "To: /content/tokenization.py\n",
            "100% 17.3k/17.3k [00:00<00:00, 28.9MB/s]\n"
          ]
        }
      ]
    },
    {
      "cell_type": "code",
      "metadata": {
        "id": "wOtG4cf0qVAZ"
      },
      "source": [
        "#import dependencies\n",
        "import numpy as np\n",
        "import pandas as pd\n",
        "import tensorflow as tf\n",
        "import tensorflow_hub as hub\n",
        "from tensorflow.keras.models import Model"
      ],
      "execution_count": null,
      "outputs": []
    },
    {
      "cell_type": "code",
      "metadata": {
        "id": "OcmiHdAJqVAi",
        "colab": {
          "base_uri": "https://localhost:8080/",
          "height": 36
        },
        "outputId": "11439261-27ca-4e70-a191-f46cd43fcaf8"
      },
      "source": [
        "tf.test.gpu_device_name()"
      ],
      "execution_count": null,
      "outputs": [
        {
          "output_type": "execute_result",
          "data": {
            "text/plain": [
              "'/device:GPU:0'"
            ],
            "application/vnd.google.colaboratory.intrinsic+json": {
              "type": "string"
            }
          },
          "metadata": {},
          "execution_count": 3
        }
      ]
    },
    {
      "cell_type": "markdown",
      "metadata": {
        "id": "ZTWRqbrBqVAu"
      },
      "source": [
        "<pre><font size=6>1.Preprocessing</font></pre>"
      ]
    },
    {
      "cell_type": "code",
      "metadata": {
        "id": "B3csZKDrqVAv",
        "colab": {
          "base_uri": "https://localhost:8080/"
        },
        "outputId": "340b0e2f-30ea-49e7-fae1-9818cb4a660d"
      },
      "source": [
        "#Read the dataset - Amazon fine food reviews\n",
        "reviews = pd.read_csv(r\"Reviews.csv\")\n",
        "#check the info of the dataset\n",
        "reviews.info()"
      ],
      "execution_count": null,
      "outputs": [
        {
          "output_type": "stream",
          "name": "stdout",
          "text": [
            "<class 'pandas.core.frame.DataFrame'>\n",
            "RangeIndex: 568454 entries, 0 to 568453\n",
            "Data columns (total 10 columns):\n",
            " #   Column                  Non-Null Count   Dtype \n",
            "---  ------                  --------------   ----- \n",
            " 0   Id                      568454 non-null  int64 \n",
            " 1   ProductId               568454 non-null  object\n",
            " 2   UserId                  568454 non-null  object\n",
            " 3   ProfileName             568438 non-null  object\n",
            " 4   HelpfulnessNumerator    568454 non-null  int64 \n",
            " 5   HelpfulnessDenominator  568454 non-null  int64 \n",
            " 6   Score                   568454 non-null  int64 \n",
            " 7   Time                    568454 non-null  int64 \n",
            " 8   Summary                 568427 non-null  object\n",
            " 9   Text                    568454 non-null  object\n",
            "dtypes: int64(5), object(5)\n",
            "memory usage: 43.4+ MB\n"
          ]
        }
      ]
    },
    {
      "cell_type": "code",
      "metadata": {
        "id": "xokNn7qZqVAz"
      },
      "source": [
        "#get only 2 columns - Text, Score\n",
        "#drop the NAN values (if any)\n",
        "reviews = reviews.loc[:, ['Text', 'Score']]"
      ],
      "execution_count": null,
      "outputs": []
    },
    {
      "cell_type": "code",
      "source": [
        "reviews.isnull().sum()"
      ],
      "metadata": {
        "colab": {
          "base_uri": "https://localhost:8080/"
        },
        "id": "nRe-utzWedLS",
        "outputId": "0ba3700f-57a8-4bb2-e4c4-b2628ce209c7"
      },
      "execution_count": null,
      "outputs": [
        {
          "output_type": "execute_result",
          "data": {
            "text/plain": [
              "Text     0\n",
              "Score    0\n",
              "dtype: int64"
            ]
          },
          "metadata": {},
          "execution_count": 8
        }
      ]
    },
    {
      "cell_type": "code",
      "source": [
        "reviews['Score'].unique()"
      ],
      "metadata": {
        "colab": {
          "base_uri": "https://localhost:8080/"
        },
        "id": "Wr6IcxmjfN95",
        "outputId": "c2604cbe-075a-4d25-c812-ca744fb54918"
      },
      "execution_count": null,
      "outputs": [
        {
          "output_type": "execute_result",
          "data": {
            "text/plain": [
              "array([5, 1, 4, 2, 3])"
            ]
          },
          "metadata": {},
          "execution_count": 9
        }
      ]
    },
    {
      "cell_type": "code",
      "metadata": {
        "id": "5GZt7pVkqVA4"
      },
      "source": [
        "#if score> 3, set score = 1\n",
        "#if score<=2, set score = 0\n",
        "#if score == 3, remove the rows. \n",
        "\n",
        "reviews = reviews[reviews['Score']!=3]\n",
        "bin_scores = [1 if (score>3) else 0 for score in list(reviews['Score'])]\n",
        "reviews['Score'] = bin_scores"
      ],
      "execution_count": null,
      "outputs": []
    },
    {
      "cell_type": "code",
      "source": [
        "reviews.shape"
      ],
      "metadata": {
        "colab": {
          "base_uri": "https://localhost:8080/"
        },
        "id": "-2EdLGTWfyd3",
        "outputId": "479d2e85-7e9c-4595-d7eb-e2084268ed64"
      },
      "execution_count": null,
      "outputs": [
        {
          "output_type": "execute_result",
          "data": {
            "text/plain": [
              "(525814, 2)"
            ]
          },
          "metadata": {},
          "execution_count": 11
        }
      ]
    },
    {
      "cell_type": "code",
      "source": [
        "reviews.head()"
      ],
      "metadata": {
        "colab": {
          "base_uri": "https://localhost:8080/",
          "height": 206
        },
        "id": "orp5r0x5ohA1",
        "outputId": "e2284b85-d1bd-45b5-d1a8-9d7e1b0c7886"
      },
      "execution_count": null,
      "outputs": [
        {
          "output_type": "execute_result",
          "data": {
            "text/plain": [
              "                                                Text  Score\n",
              "0  I have bought several of the Vitality canned d...      1\n",
              "1  Product arrived labeled as Jumbo Salted Peanut...      0\n",
              "2  This is a confection that has been around a fe...      1\n",
              "3  If you are looking for the secret ingredient i...      0\n",
              "4  Great taffy at a great price.  There was a wid...      1"
            ],
            "text/html": [
              "\n",
              "  <div id=\"df-eb108591-af2a-4bb9-98b4-09f374813a6a\">\n",
              "    <div class=\"colab-df-container\">\n",
              "      <div>\n",
              "<style scoped>\n",
              "    .dataframe tbody tr th:only-of-type {\n",
              "        vertical-align: middle;\n",
              "    }\n",
              "\n",
              "    .dataframe tbody tr th {\n",
              "        vertical-align: top;\n",
              "    }\n",
              "\n",
              "    .dataframe thead th {\n",
              "        text-align: right;\n",
              "    }\n",
              "</style>\n",
              "<table border=\"1\" class=\"dataframe\">\n",
              "  <thead>\n",
              "    <tr style=\"text-align: right;\">\n",
              "      <th></th>\n",
              "      <th>Text</th>\n",
              "      <th>Score</th>\n",
              "    </tr>\n",
              "  </thead>\n",
              "  <tbody>\n",
              "    <tr>\n",
              "      <th>0</th>\n",
              "      <td>I have bought several of the Vitality canned d...</td>\n",
              "      <td>1</td>\n",
              "    </tr>\n",
              "    <tr>\n",
              "      <th>1</th>\n",
              "      <td>Product arrived labeled as Jumbo Salted Peanut...</td>\n",
              "      <td>0</td>\n",
              "    </tr>\n",
              "    <tr>\n",
              "      <th>2</th>\n",
              "      <td>This is a confection that has been around a fe...</td>\n",
              "      <td>1</td>\n",
              "    </tr>\n",
              "    <tr>\n",
              "      <th>3</th>\n",
              "      <td>If you are looking for the secret ingredient i...</td>\n",
              "      <td>0</td>\n",
              "    </tr>\n",
              "    <tr>\n",
              "      <th>4</th>\n",
              "      <td>Great taffy at a great price.  There was a wid...</td>\n",
              "      <td>1</td>\n",
              "    </tr>\n",
              "  </tbody>\n",
              "</table>\n",
              "</div>\n",
              "      <button class=\"colab-df-convert\" onclick=\"convertToInteractive('df-eb108591-af2a-4bb9-98b4-09f374813a6a')\"\n",
              "              title=\"Convert this dataframe to an interactive table.\"\n",
              "              style=\"display:none;\">\n",
              "        \n",
              "  <svg xmlns=\"http://www.w3.org/2000/svg\" height=\"24px\"viewBox=\"0 0 24 24\"\n",
              "       width=\"24px\">\n",
              "    <path d=\"M0 0h24v24H0V0z\" fill=\"none\"/>\n",
              "    <path d=\"M18.56 5.44l.94 2.06.94-2.06 2.06-.94-2.06-.94-.94-2.06-.94 2.06-2.06.94zm-11 1L8.5 8.5l.94-2.06 2.06-.94-2.06-.94L8.5 2.5l-.94 2.06-2.06.94zm10 10l.94 2.06.94-2.06 2.06-.94-2.06-.94-.94-2.06-.94 2.06-2.06.94z\"/><path d=\"M17.41 7.96l-1.37-1.37c-.4-.4-.92-.59-1.43-.59-.52 0-1.04.2-1.43.59L10.3 9.45l-7.72 7.72c-.78.78-.78 2.05 0 2.83L4 21.41c.39.39.9.59 1.41.59.51 0 1.02-.2 1.41-.59l7.78-7.78 2.81-2.81c.8-.78.8-2.07 0-2.86zM5.41 20L4 18.59l7.72-7.72 1.47 1.35L5.41 20z\"/>\n",
              "  </svg>\n",
              "      </button>\n",
              "      \n",
              "  <style>\n",
              "    .colab-df-container {\n",
              "      display:flex;\n",
              "      flex-wrap:wrap;\n",
              "      gap: 12px;\n",
              "    }\n",
              "\n",
              "    .colab-df-convert {\n",
              "      background-color: #E8F0FE;\n",
              "      border: none;\n",
              "      border-radius: 50%;\n",
              "      cursor: pointer;\n",
              "      display: none;\n",
              "      fill: #1967D2;\n",
              "      height: 32px;\n",
              "      padding: 0 0 0 0;\n",
              "      width: 32px;\n",
              "    }\n",
              "\n",
              "    .colab-df-convert:hover {\n",
              "      background-color: #E2EBFA;\n",
              "      box-shadow: 0px 1px 2px rgba(60, 64, 67, 0.3), 0px 1px 3px 1px rgba(60, 64, 67, 0.15);\n",
              "      fill: #174EA6;\n",
              "    }\n",
              "\n",
              "    [theme=dark] .colab-df-convert {\n",
              "      background-color: #3B4455;\n",
              "      fill: #D2E3FC;\n",
              "    }\n",
              "\n",
              "    [theme=dark] .colab-df-convert:hover {\n",
              "      background-color: #434B5C;\n",
              "      box-shadow: 0px 1px 3px 1px rgba(0, 0, 0, 0.15);\n",
              "      filter: drop-shadow(0px 1px 2px rgba(0, 0, 0, 0.3));\n",
              "      fill: #FFFFFF;\n",
              "    }\n",
              "  </style>\n",
              "\n",
              "      <script>\n",
              "        const buttonEl =\n",
              "          document.querySelector('#df-eb108591-af2a-4bb9-98b4-09f374813a6a button.colab-df-convert');\n",
              "        buttonEl.style.display =\n",
              "          google.colab.kernel.accessAllowed ? 'block' : 'none';\n",
              "\n",
              "        async function convertToInteractive(key) {\n",
              "          const element = document.querySelector('#df-eb108591-af2a-4bb9-98b4-09f374813a6a');\n",
              "          const dataTable =\n",
              "            await google.colab.kernel.invokeFunction('convertToInteractive',\n",
              "                                                     [key], {});\n",
              "          if (!dataTable) return;\n",
              "\n",
              "          const docLinkHtml = 'Like what you see? Visit the ' +\n",
              "            '<a target=\"_blank\" href=https://colab.research.google.com/notebooks/data_table.ipynb>data table notebook</a>'\n",
              "            + ' to learn more about interactive tables.';\n",
              "          element.innerHTML = '';\n",
              "          dataTable['output_type'] = 'display_data';\n",
              "          await google.colab.output.renderOutput(dataTable, element);\n",
              "          const docLink = document.createElement('div');\n",
              "          docLink.innerHTML = docLinkHtml;\n",
              "          element.appendChild(docLink);\n",
              "        }\n",
              "      </script>\n",
              "    </div>\n",
              "  </div>\n",
              "  "
            ]
          },
          "metadata": {},
          "execution_count": 15
        }
      ]
    },
    {
      "cell_type": "code",
      "source": [
        "reviews['Score'].value_counts()"
      ],
      "metadata": {
        "colab": {
          "base_uri": "https://localhost:8080/"
        },
        "id": "UrVU6Wcqojip",
        "outputId": "0e3d5cd6-d788-4ddf-af17-ee9bbbb8eae2"
      },
      "execution_count": null,
      "outputs": [
        {
          "output_type": "execute_result",
          "data": {
            "text/plain": [
              "1    443777\n",
              "0     82037\n",
              "Name: Score, dtype: int64"
            ]
          },
          "metadata": {},
          "execution_count": 13
        }
      ]
    },
    {
      "cell_type": "code",
      "metadata": {
        "id": "xYZ-UB9UqVA-"
      },
      "source": [
        "def get_wordlen(x):\n",
        "    return len(x.split())\n",
        "reviews['len'] = reviews.Text.apply(get_wordlen)\n",
        "reviews = reviews[reviews.len<50]\n",
        "reviews = reviews.sample(n=100000, random_state=30)"
      ],
      "execution_count": null,
      "outputs": []
    },
    {
      "cell_type": "code",
      "source": [
        "reviews['Score'].value_counts()"
      ],
      "metadata": {
        "colab": {
          "base_uri": "https://localhost:8080/"
        },
        "id": "d0Z6Ycwtoy6F",
        "outputId": "02fcea84-8ac8-4cff-e631-cd3d305c32e8"
      },
      "execution_count": null,
      "outputs": [
        {
          "output_type": "execute_result",
          "data": {
            "text/plain": [
              "1    87004\n",
              "0    12996\n",
              "Name: Score, dtype: int64"
            ]
          },
          "metadata": {},
          "execution_count": 18
        }
      ]
    },
    {
      "cell_type": "code",
      "metadata": {
        "id": "CvldQriGqVBB",
        "colab": {
          "base_uri": "https://localhost:8080/"
        },
        "outputId": "afc3c522-19d1-4888-9511-f0038c9b50ea"
      },
      "source": [
        "import re\n",
        "#testing re pattern to capture html tags in text column\n",
        "s = \" \".join(list(reviews[\"Text\"]))\n",
        "#refer - https://stackoverflow.com/questions/3075130/what-is-the-difference-between-and-regular-expressions\n",
        "ls = re.findall('<.*?>', s)\n",
        "print(len(np.unique(ls)))\n",
        "print(ls[:3])"
      ],
      "execution_count": null,
      "outputs": [
        {
          "output_type": "stream",
          "name": "stdout",
          "text": [
            "545\n",
            "['<br />', '<br />', '<a href=\"http://www.amazon.com/gp/product/B001VIY9KW\">']\n"
          ]
        }
      ]
    },
    {
      "cell_type": "code",
      "source": [
        "#remove the HTML tags from each text\n",
        "#split the text using whitespace as separator(default), then join again to ensure the words are evenly spaced\n",
        "reviews['Text'] = reviews['Text'].apply(lambda x: \" \".join(re.sub('<.*?>', '', x).split()))"
      ],
      "metadata": {
        "id": "rnXUj3t7sSdF"
      },
      "execution_count": null,
      "outputs": []
    },
    {
      "cell_type": "code",
      "metadata": {
        "id": "AhfN1s2mqVBD",
        "colab": {
          "base_uri": "https://localhost:8080/",
          "height": 206
        },
        "outputId": "97bab1d3-93b4-49fc-ce36-d50e92ab2a99"
      },
      "source": [
        "#print head 5\n",
        "reviews.reset_index(drop=True, inplace=True)\n",
        "reviews.head()"
      ],
      "execution_count": null,
      "outputs": [
        {
          "output_type": "execute_result",
          "data": {
            "text/plain": [
              "                                                Text  Score  len\n",
              "0  The tea was of great quality and it tasted lik...      1   30\n",
              "1  My cat loves this. The pellets are nice and sm...      1   31\n",
              "2  Great product. Does not completely get rid of ...      1   41\n",
              "3  This gum is my favorite! I would advise everyo...      1   27\n",
              "4  I also found out about this product because of...      1   22"
            ],
            "text/html": [
              "\n",
              "  <div id=\"df-6677f9a5-d56a-4f0c-bf71-bfde18a5c025\">\n",
              "    <div class=\"colab-df-container\">\n",
              "      <div>\n",
              "<style scoped>\n",
              "    .dataframe tbody tr th:only-of-type {\n",
              "        vertical-align: middle;\n",
              "    }\n",
              "\n",
              "    .dataframe tbody tr th {\n",
              "        vertical-align: top;\n",
              "    }\n",
              "\n",
              "    .dataframe thead th {\n",
              "        text-align: right;\n",
              "    }\n",
              "</style>\n",
              "<table border=\"1\" class=\"dataframe\">\n",
              "  <thead>\n",
              "    <tr style=\"text-align: right;\">\n",
              "      <th></th>\n",
              "      <th>Text</th>\n",
              "      <th>Score</th>\n",
              "      <th>len</th>\n",
              "    </tr>\n",
              "  </thead>\n",
              "  <tbody>\n",
              "    <tr>\n",
              "      <th>0</th>\n",
              "      <td>The tea was of great quality and it tasted lik...</td>\n",
              "      <td>1</td>\n",
              "      <td>30</td>\n",
              "    </tr>\n",
              "    <tr>\n",
              "      <th>1</th>\n",
              "      <td>My cat loves this. The pellets are nice and sm...</td>\n",
              "      <td>1</td>\n",
              "      <td>31</td>\n",
              "    </tr>\n",
              "    <tr>\n",
              "      <th>2</th>\n",
              "      <td>Great product. Does not completely get rid of ...</td>\n",
              "      <td>1</td>\n",
              "      <td>41</td>\n",
              "    </tr>\n",
              "    <tr>\n",
              "      <th>3</th>\n",
              "      <td>This gum is my favorite! I would advise everyo...</td>\n",
              "      <td>1</td>\n",
              "      <td>27</td>\n",
              "    </tr>\n",
              "    <tr>\n",
              "      <th>4</th>\n",
              "      <td>I also found out about this product because of...</td>\n",
              "      <td>1</td>\n",
              "      <td>22</td>\n",
              "    </tr>\n",
              "  </tbody>\n",
              "</table>\n",
              "</div>\n",
              "      <button class=\"colab-df-convert\" onclick=\"convertToInteractive('df-6677f9a5-d56a-4f0c-bf71-bfde18a5c025')\"\n",
              "              title=\"Convert this dataframe to an interactive table.\"\n",
              "              style=\"display:none;\">\n",
              "        \n",
              "  <svg xmlns=\"http://www.w3.org/2000/svg\" height=\"24px\"viewBox=\"0 0 24 24\"\n",
              "       width=\"24px\">\n",
              "    <path d=\"M0 0h24v24H0V0z\" fill=\"none\"/>\n",
              "    <path d=\"M18.56 5.44l.94 2.06.94-2.06 2.06-.94-2.06-.94-.94-2.06-.94 2.06-2.06.94zm-11 1L8.5 8.5l.94-2.06 2.06-.94-2.06-.94L8.5 2.5l-.94 2.06-2.06.94zm10 10l.94 2.06.94-2.06 2.06-.94-2.06-.94-.94-2.06-.94 2.06-2.06.94z\"/><path d=\"M17.41 7.96l-1.37-1.37c-.4-.4-.92-.59-1.43-.59-.52 0-1.04.2-1.43.59L10.3 9.45l-7.72 7.72c-.78.78-.78 2.05 0 2.83L4 21.41c.39.39.9.59 1.41.59.51 0 1.02-.2 1.41-.59l7.78-7.78 2.81-2.81c.8-.78.8-2.07 0-2.86zM5.41 20L4 18.59l7.72-7.72 1.47 1.35L5.41 20z\"/>\n",
              "  </svg>\n",
              "      </button>\n",
              "      \n",
              "  <style>\n",
              "    .colab-df-container {\n",
              "      display:flex;\n",
              "      flex-wrap:wrap;\n",
              "      gap: 12px;\n",
              "    }\n",
              "\n",
              "    .colab-df-convert {\n",
              "      background-color: #E8F0FE;\n",
              "      border: none;\n",
              "      border-radius: 50%;\n",
              "      cursor: pointer;\n",
              "      display: none;\n",
              "      fill: #1967D2;\n",
              "      height: 32px;\n",
              "      padding: 0 0 0 0;\n",
              "      width: 32px;\n",
              "    }\n",
              "\n",
              "    .colab-df-convert:hover {\n",
              "      background-color: #E2EBFA;\n",
              "      box-shadow: 0px 1px 2px rgba(60, 64, 67, 0.3), 0px 1px 3px 1px rgba(60, 64, 67, 0.15);\n",
              "      fill: #174EA6;\n",
              "    }\n",
              "\n",
              "    [theme=dark] .colab-df-convert {\n",
              "      background-color: #3B4455;\n",
              "      fill: #D2E3FC;\n",
              "    }\n",
              "\n",
              "    [theme=dark] .colab-df-convert:hover {\n",
              "      background-color: #434B5C;\n",
              "      box-shadow: 0px 1px 3px 1px rgba(0, 0, 0, 0.15);\n",
              "      filter: drop-shadow(0px 1px 2px rgba(0, 0, 0, 0.3));\n",
              "      fill: #FFFFFF;\n",
              "    }\n",
              "  </style>\n",
              "\n",
              "      <script>\n",
              "        const buttonEl =\n",
              "          document.querySelector('#df-6677f9a5-d56a-4f0c-bf71-bfde18a5c025 button.colab-df-convert');\n",
              "        buttonEl.style.display =\n",
              "          google.colab.kernel.accessAllowed ? 'block' : 'none';\n",
              "\n",
              "        async function convertToInteractive(key) {\n",
              "          const element = document.querySelector('#df-6677f9a5-d56a-4f0c-bf71-bfde18a5c025');\n",
              "          const dataTable =\n",
              "            await google.colab.kernel.invokeFunction('convertToInteractive',\n",
              "                                                     [key], {});\n",
              "          if (!dataTable) return;\n",
              "\n",
              "          const docLinkHtml = 'Like what you see? Visit the ' +\n",
              "            '<a target=\"_blank\" href=https://colab.research.google.com/notebooks/data_table.ipynb>data table notebook</a>'\n",
              "            + ' to learn more about interactive tables.';\n",
              "          element.innerHTML = '';\n",
              "          dataTable['output_type'] = 'display_data';\n",
              "          await google.colab.output.renderOutput(dataTable, element);\n",
              "          const docLink = document.createElement('div');\n",
              "          docLink.innerHTML = docLinkHtml;\n",
              "          element.appendChild(docLink);\n",
              "        }\n",
              "      </script>\n",
              "    </div>\n",
              "  </div>\n",
              "  "
            ]
          },
          "metadata": {},
          "execution_count": 129
        }
      ]
    },
    {
      "cell_type": "code",
      "source": [
        "#check if any HTML tags are still present in Text column\n",
        "s = \" \".join(list(reviews[\"Text\"]))\n",
        "ls = re.findall('<.*?>', s)\n",
        "print(len(np.unique(ls)))"
      ],
      "metadata": {
        "colab": {
          "base_uri": "https://localhost:8080/"
        },
        "id": "XuaLOoRMFx_p",
        "outputId": "28ee554b-887f-46e5-a717-498d9bb1470f"
      },
      "execution_count": null,
      "outputs": [
        {
          "output_type": "stream",
          "name": "stdout",
          "text": [
            "0\n"
          ]
        }
      ]
    },
    {
      "cell_type": "code",
      "metadata": {
        "id": "Up-z5boWqVBK"
      },
      "source": [
        "#saving to disk. if we need, we can load preprocessed data directly. \n",
        "reviews.to_csv('preprocessed.csv', index=False)"
      ],
      "execution_count": null,
      "outputs": []
    },
    {
      "cell_type": "code",
      "source": [
        "reviews = pd.read_csv('preprocessed.csv')"
      ],
      "metadata": {
        "id": "-JHUwO_haP2K"
      },
      "execution_count": null,
      "outputs": []
    },
    {
      "cell_type": "code",
      "source": [
        "reviews.head()"
      ],
      "metadata": {
        "colab": {
          "base_uri": "https://localhost:8080/",
          "height": 206
        },
        "id": "MWB18GrTbn5p",
        "outputId": "dffa58e5-3d3b-4184-9e26-252d8925ddce"
      },
      "execution_count": null,
      "outputs": [
        {
          "output_type": "execute_result",
          "data": {
            "text/plain": [
              "                                                Text  Score  len\n",
              "0  The tea was of great quality and it tasted lik...      1   30\n",
              "1  My cat loves this. The pellets are nice and sm...      1   31\n",
              "2  Great product. Does not completely get rid of ...      1   41\n",
              "3  This gum is my favorite! I would advise everyo...      1   27\n",
              "4  I also found out about this product because of...      1   22"
            ],
            "text/html": [
              "\n",
              "  <div id=\"df-7428413d-e957-46af-a247-c2483ebb89db\">\n",
              "    <div class=\"colab-df-container\">\n",
              "      <div>\n",
              "<style scoped>\n",
              "    .dataframe tbody tr th:only-of-type {\n",
              "        vertical-align: middle;\n",
              "    }\n",
              "\n",
              "    .dataframe tbody tr th {\n",
              "        vertical-align: top;\n",
              "    }\n",
              "\n",
              "    .dataframe thead th {\n",
              "        text-align: right;\n",
              "    }\n",
              "</style>\n",
              "<table border=\"1\" class=\"dataframe\">\n",
              "  <thead>\n",
              "    <tr style=\"text-align: right;\">\n",
              "      <th></th>\n",
              "      <th>Text</th>\n",
              "      <th>Score</th>\n",
              "      <th>len</th>\n",
              "    </tr>\n",
              "  </thead>\n",
              "  <tbody>\n",
              "    <tr>\n",
              "      <th>0</th>\n",
              "      <td>The tea was of great quality and it tasted lik...</td>\n",
              "      <td>1</td>\n",
              "      <td>30</td>\n",
              "    </tr>\n",
              "    <tr>\n",
              "      <th>1</th>\n",
              "      <td>My cat loves this. The pellets are nice and sm...</td>\n",
              "      <td>1</td>\n",
              "      <td>31</td>\n",
              "    </tr>\n",
              "    <tr>\n",
              "      <th>2</th>\n",
              "      <td>Great product. Does not completely get rid of ...</td>\n",
              "      <td>1</td>\n",
              "      <td>41</td>\n",
              "    </tr>\n",
              "    <tr>\n",
              "      <th>3</th>\n",
              "      <td>This gum is my favorite! I would advise everyo...</td>\n",
              "      <td>1</td>\n",
              "      <td>27</td>\n",
              "    </tr>\n",
              "    <tr>\n",
              "      <th>4</th>\n",
              "      <td>I also found out about this product because of...</td>\n",
              "      <td>1</td>\n",
              "      <td>22</td>\n",
              "    </tr>\n",
              "  </tbody>\n",
              "</table>\n",
              "</div>\n",
              "      <button class=\"colab-df-convert\" onclick=\"convertToInteractive('df-7428413d-e957-46af-a247-c2483ebb89db')\"\n",
              "              title=\"Convert this dataframe to an interactive table.\"\n",
              "              style=\"display:none;\">\n",
              "        \n",
              "  <svg xmlns=\"http://www.w3.org/2000/svg\" height=\"24px\"viewBox=\"0 0 24 24\"\n",
              "       width=\"24px\">\n",
              "    <path d=\"M0 0h24v24H0V0z\" fill=\"none\"/>\n",
              "    <path d=\"M18.56 5.44l.94 2.06.94-2.06 2.06-.94-2.06-.94-.94-2.06-.94 2.06-2.06.94zm-11 1L8.5 8.5l.94-2.06 2.06-.94-2.06-.94L8.5 2.5l-.94 2.06-2.06.94zm10 10l.94 2.06.94-2.06 2.06-.94-2.06-.94-.94-2.06-.94 2.06-2.06.94z\"/><path d=\"M17.41 7.96l-1.37-1.37c-.4-.4-.92-.59-1.43-.59-.52 0-1.04.2-1.43.59L10.3 9.45l-7.72 7.72c-.78.78-.78 2.05 0 2.83L4 21.41c.39.39.9.59 1.41.59.51 0 1.02-.2 1.41-.59l7.78-7.78 2.81-2.81c.8-.78.8-2.07 0-2.86zM5.41 20L4 18.59l7.72-7.72 1.47 1.35L5.41 20z\"/>\n",
              "  </svg>\n",
              "      </button>\n",
              "      \n",
              "  <style>\n",
              "    .colab-df-container {\n",
              "      display:flex;\n",
              "      flex-wrap:wrap;\n",
              "      gap: 12px;\n",
              "    }\n",
              "\n",
              "    .colab-df-convert {\n",
              "      background-color: #E8F0FE;\n",
              "      border: none;\n",
              "      border-radius: 50%;\n",
              "      cursor: pointer;\n",
              "      display: none;\n",
              "      fill: #1967D2;\n",
              "      height: 32px;\n",
              "      padding: 0 0 0 0;\n",
              "      width: 32px;\n",
              "    }\n",
              "\n",
              "    .colab-df-convert:hover {\n",
              "      background-color: #E2EBFA;\n",
              "      box-shadow: 0px 1px 2px rgba(60, 64, 67, 0.3), 0px 1px 3px 1px rgba(60, 64, 67, 0.15);\n",
              "      fill: #174EA6;\n",
              "    }\n",
              "\n",
              "    [theme=dark] .colab-df-convert {\n",
              "      background-color: #3B4455;\n",
              "      fill: #D2E3FC;\n",
              "    }\n",
              "\n",
              "    [theme=dark] .colab-df-convert:hover {\n",
              "      background-color: #434B5C;\n",
              "      box-shadow: 0px 1px 3px 1px rgba(0, 0, 0, 0.15);\n",
              "      filter: drop-shadow(0px 1px 2px rgba(0, 0, 0, 0.3));\n",
              "      fill: #FFFFFF;\n",
              "    }\n",
              "  </style>\n",
              "\n",
              "      <script>\n",
              "        const buttonEl =\n",
              "          document.querySelector('#df-7428413d-e957-46af-a247-c2483ebb89db button.colab-df-convert');\n",
              "        buttonEl.style.display =\n",
              "          google.colab.kernel.accessAllowed ? 'block' : 'none';\n",
              "\n",
              "        async function convertToInteractive(key) {\n",
              "          const element = document.querySelector('#df-7428413d-e957-46af-a247-c2483ebb89db');\n",
              "          const dataTable =\n",
              "            await google.colab.kernel.invokeFunction('convertToInteractive',\n",
              "                                                     [key], {});\n",
              "          if (!dataTable) return;\n",
              "\n",
              "          const docLinkHtml = 'Like what you see? Visit the ' +\n",
              "            '<a target=\"_blank\" href=https://colab.research.google.com/notebooks/data_table.ipynb>data table notebook</a>'\n",
              "            + ' to learn more about interactive tables.';\n",
              "          element.innerHTML = '';\n",
              "          dataTable['output_type'] = 'display_data';\n",
              "          await google.colab.output.renderOutput(dataTable, element);\n",
              "          const docLink = document.createElement('div');\n",
              "          docLink.innerHTML = docLinkHtml;\n",
              "          element.appendChild(docLink);\n",
              "        }\n",
              "      </script>\n",
              "    </div>\n",
              "  </div>\n",
              "  "
            ]
          },
          "metadata": {},
          "execution_count": 13
        }
      ]
    },
    {
      "cell_type": "code",
      "source": [
        "X = reviews['Text']\n",
        "y = reviews['Score']"
      ],
      "metadata": {
        "id": "8e9S-sG6F4Hx"
      },
      "execution_count": null,
      "outputs": []
    },
    {
      "cell_type": "code",
      "metadata": {
        "id": "NsYDd3okqVBF"
      },
      "source": [
        "#split the data into train and test data(20%) with Stratify sampling, random state 33, \n",
        "from sklearn.model_selection import train_test_split\n",
        "\n",
        "X_train, X_test, y_train, y_test = train_test_split(X, y, test_size=0.2, stratify=y, random_state=33)"
      ],
      "execution_count": null,
      "outputs": []
    },
    {
      "cell_type": "code",
      "metadata": {
        "id": "-Q6OAcrOqVBI",
        "colab": {
          "base_uri": "https://localhost:8080/",
          "height": 404
        },
        "outputId": "36e05de8-1095-43e7-dcce-f41915977db1"
      },
      "source": [
        "#plot bar graphs of y_train and y_test\n",
        "import matplotlib.pyplot as plt\n",
        "import seaborn as sns \n",
        "\n",
        "plt.figure(figsize=(20, 6))\n",
        "\n",
        "plt.subplot(1,2,1)\n",
        "ax_1 = sns.countplot(x = y_train)\n",
        "ax_1.set(xlabel = 'Sentiment Score', ylabel = 'Count', title = 'Class Distibution in Train')\n",
        "ax_1.grid()\n",
        "\n",
        "plt.subplot(1,2,2)\n",
        "ax_2 = sns.countplot(x = y_test)\n",
        "ax_2.set(xlabel = 'Sentiment Score', ylabel = 'Count', title = 'Class Distibution in Test')\n",
        "ax_2.grid()\n",
        "\n",
        "plt.show()"
      ],
      "execution_count": null,
      "outputs": [
        {
          "output_type": "display_data",
          "data": {
            "text/plain": [
              "<Figure size 1440x432 with 2 Axes>"
            ],
            "image/png": "[encoded data removed]"
          },
          "metadata": {
            "needs_background": "light"
          }
        }
      ]
    },
    {
      "cell_type": "markdown",
      "metadata": {
        "id": "bBtqNGN9qVBM"
      },
      "source": [
        "<pre><font size=6>2.Creating BERT Model</font> \n",
        "\n",
        "To know more about BERT, refer <a href=\"https://jalammar.github.io/illustrated-transformer/\">Transformers</a>, <a href=\"https://arxiv.org/abs/1810.04805\">BERT Paper</a> and, <a href=\"https://jalammar.github.io/a-visual-guide-to-using-bert-for-the-first-time/\">This blog</a>.\n",
        "\n",
        "\n",
        "For this problem, we are using <a href=\"https://tfhub.dev/tensorflow/bert_en_uncased_L-12_H-768_A-12/1\">BERT uncased Base model</a>. \n",
        "It uses L=12 hidden layers (i.e., Transformer blocks), a hidden size of H=768, and A=12 attention heads. </pre>"
      ]
    },
    {
      "cell_type": "code",
      "metadata": {
        "id": "i8xd2HejqVBN"
      },
      "source": [
        "## Loading the Pretrained Model from tensorflow HUB\n",
        "tf.keras.backend.clear_session()\n",
        "\n",
        "# maximum length of a seq in the data we have, for now i am making it as 55. you may change after percentile analysis \n",
        "max_seq_length = 55 \n",
        "\n",
        "#BERT takes 3 inputs\n",
        "#this is input words. Sequence of words represented as integers\n",
        "input_word_ids = tf.keras.layers.Input(shape=(max_seq_length,), dtype=tf.int32, name=\"input_word_ids\")\n",
        "\n",
        "#mask vector if you are padding anything\n",
        "input_mask = tf.keras.layers.Input(shape=(max_seq_length,), dtype=tf.int32, name=\"input_mask\")\n",
        "\n",
        "#segment vectors. If you are giving only one sentence for the classification, total seg vector is 0. \n",
        "#If you are giving two sentenced with [sep] token separated, first seq segment vectors are zeros and \n",
        "#second seq segment vector are 1's\n",
        "segment_ids = tf.keras.layers.Input(shape=(max_seq_length,), dtype=tf.int32, name=\"segment_ids\")\n",
        "\n",
        "#bert layer \n",
        "bert_layer = hub.KerasLayer(\"https://tfhub.dev/tensorflow/bert_en_uncased_L-12_H-768_A-12/1\", trainable=False)\n",
        "pooled_output, sequence_output = bert_layer([input_word_ids, input_mask, segment_ids])\n",
        "\n",
        "#Bert model\n",
        "#We are using only pooled output not sequence out. \n",
        "#refer - https://www.kaggle.com/questions-and-answers/86510\n",
        "bert_model = Model(inputs=[input_word_ids, input_mask, segment_ids], outputs=pooled_output)\n"
      ],
      "execution_count": null,
      "outputs": []
    },
    {
      "cell_type": "code",
      "metadata": {
        "id": "lQJsjg6fqVBQ",
        "colab": {
          "base_uri": "https://localhost:8080/"
        },
        "outputId": "d0c84535-e236-4025-9bca-040d5cd1bf9a"
      },
      "source": [
        "bert_model.summary()"
      ],
      "execution_count": null,
      "outputs": [
        {
          "output_type": "stream",
          "name": "stdout",
          "text": [
            "Model: \"model\"\n",
            "__________________________________________________________________________________________________\n",
            " Layer (type)                   Output Shape         Param #     Connected to                     \n",
            "==================================================================================================\n",
            " input_word_ids (InputLayer)    [(None, 55)]         0           []                               \n",
            "                                                                                                  \n",
            " input_mask (InputLayer)        [(None, 55)]         0           []                               \n",
            "                                                                                                  \n",
            " segment_ids (InputLayer)       [(None, 55)]         0           []                               \n",
            "                                                                                                  \n",
            " keras_layer (KerasLayer)       [(None, 768),        109482241   ['input_word_ids[0][0]',         \n",
            "                                 (None, 55, 768)]                 'input_mask[0][0]',             \n",
            "                                                                  'segment_ids[0][0]']            \n",
            "                                                                                                  \n",
            "==================================================================================================\n",
            "Total params: 109,482,241\n",
            "Trainable params: 0\n",
            "Non-trainable params: 109,482,241\n",
            "__________________________________________________________________________________________________\n"
          ]
        }
      ]
    },
    {
      "cell_type": "code",
      "metadata": {
        "id": "w3z0OMA5qVBS",
        "colab": {
          "base_uri": "https://localhost:8080/"
        },
        "outputId": "5ca5382f-179e-48cd-a6b3-b7d6a9bd1154"
      },
      "source": [
        "bert_model.output"
      ],
      "execution_count": null,
      "outputs": [
        {
          "output_type": "execute_result",
          "data": {
            "text/plain": [
              "<KerasTensor: shape=(None, 768) dtype=float32 (created by layer 'keras_layer')>"
            ]
          },
          "metadata": {},
          "execution_count": 7
        }
      ]
    },
    {
      "cell_type": "markdown",
      "metadata": {
        "id": "Ewv4hFCsqVBU"
      },
      "source": [
        "<pre><font size=6>3.Tokenization</font></pre>"
      ]
    },
    {
      "cell_type": "code",
      "metadata": {
        "id": "tX3VEFjiqVBU"
      },
      "source": [
        "#getting Vocab file\n",
        "vocab_file = bert_layer.resolved_object.vocab_file.asset_path.numpy()\n",
        "do_lower_case = bert_layer.resolved_object.do_lower_case.numpy()"
      ],
      "execution_count": null,
      "outputs": []
    },
    {
      "cell_type": "code",
      "source": [
        "!pip install sentencepiece"
      ],
      "metadata": {
        "id": "FJfOTwA6clXN",
        "colab": {
          "base_uri": "https://localhost:8080/"
        },
        "outputId": "bc70e45d-1fc6-4fd9-943e-61bd2e919661"
      },
      "execution_count": null,
      "outputs": [
        {
          "output_type": "stream",
          "name": "stdout",
          "text": [
            "Looking in indexes: https://pypi.org/simple, https://us-python.pkg.dev/colab-wheels/public/simple/\n",
            "Collecting sentencepiece\n",
            "  Downloading sentencepiece-0.1.96-cp37-cp37m-manylinux_2_17_x86_64.manylinux2014_x86_64.whl (1.2 MB)\n",
            "\u001b[K     |████████████████████████████████| 1.2 MB 28.9 MB/s \n",
            "\u001b[?25hInstalling collected packages: sentencepiece\n",
            "Successfully installed sentencepiece-0.1.96\n"
          ]
        }
      ]
    },
    {
      "cell_type": "code",
      "metadata": {
        "id": "Y_iPwa99qVBW"
      },
      "source": [
        "import tokenization  #tokenization.py file"
      ],
      "execution_count": null,
      "outputs": []
    },
    {
      "cell_type": "code",
      "metadata": {
        "id": "guJMLJ8bqVBY"
      },
      "source": [
        "# Create tokenizer \" Instantiate FullTokenizer\" \n",
        "# the FullTokenizer takes two parameters 1. vocab_file and 2. do_lower_case \n",
        "tokenizer = tokenization.FullTokenizer(vocab_file, do_lower_case)"
      ],
      "execution_count": null,
      "outputs": []
    },
    {
      "cell_type": "code",
      "source": [
        "#[CLS], [SEP] and [PAD] are all present in vocab \n",
        "'[CLS]' in tokenizer.vocab.keys()"
      ],
      "metadata": {
        "colab": {
          "base_uri": "https://localhost:8080/"
        },
        "id": "PzNFrXH6eibR",
        "outputId": "326959ad-3c0b-49b2-e057-0d1679fbebbb"
      },
      "execution_count": null,
      "outputs": [
        {
          "output_type": "execute_result",
          "data": {
            "text/plain": [
              "True"
            ]
          },
          "metadata": {},
          "execution_count": 24
        }
      ]
    },
    {
      "cell_type": "code",
      "metadata": {
        "id": "9crhPylQqVBg"
      },
      "source": [
        "# Create train and test tokens (X_train_tokens, X_test_tokens) from (X_train, X_test) using Tokenizer and \n",
        "\n",
        "# add '[CLS]' at start of the Tokens and '[SEP]' at the end of the tokens. \n",
        "\n",
        "# maximum number of tokens is 55(We already given this to BERT layer above) so shape is (None, 55)\n",
        "\n",
        "# if it is less than 55, add '[PAD]' token else truncate the tokens length.(similar to padding)\n",
        "\n",
        "# Based on padding, create the mask for Train and Test ( 1 for real token, 0 for '[PAD]'), \n",
        "# it will also same shape as input tokens (None, 55) save those in X_train_mask, X_test_mask\n",
        "\n",
        "# Create a segment input for train and test. We are using only one sentence so all zeros. This shape will also (None, 55)\n",
        "\n",
        "# type of all the above arrays should be numpy arrays\n",
        "\n",
        "# after execution of this cell, you have to get \n",
        "# X_train_tokens, X_train_mask, X_train_segment\n",
        "# X_test_tokens, X_test_mask, X_test_segment"
      ],
      "execution_count": null,
      "outputs": []
    },
    {
      "cell_type": "code",
      "source": [
        "def tokenizer_ops(text):\n",
        "    tokens = tokenizer.tokenize(text)\n",
        "    \n",
        "    if len(tokens)<=(max_seq_length-2):\n",
        "        tokens = ['[CLS]', *tokens, '[SEP]']\n",
        "    else:\n",
        "        tokens = tokens[0:(max_seq_length-2)]\n",
        "        tokens = ['[CLS]', *tokens, '[SEP]']\n",
        "    \n",
        "    masked_arr = np.array([1]*len(tokens)+[0]*(max_seq_length-len(tokens)))\n",
        "\n",
        "    segment_arr = np.array([0]*max_seq_length)\n",
        "    \n",
        "    #we can add [PAD] tokens at the end till max_seq_length is acheived [([PAD] : 0) in vocab]\n",
        "    #or we can convert tokens to ids and then add 0s at the end till max_seq_length is achieved\n",
        "    #here we go with the former approach\n",
        "    if len(tokens)<max_seq_length:\n",
        "        diff = max_seq_length-len(tokens)\n",
        "        tokens = tokens+['[PAD]']*diff\n",
        "    \n",
        "    token_ids_arr = np.array(tokenizer.convert_tokens_to_ids(tokens))\n",
        "    \n",
        "    return token_ids_arr, masked_arr, segment_arr"
      ],
      "metadata": {
        "id": "9UOSxhcAkrkz"
      },
      "execution_count": null,
      "outputs": []
    },
    {
      "cell_type": "code",
      "source": [
        "X_train_arr = np.array(list(map(lambda x: tokenizer_ops(x), X_train.values)))\n",
        "X_test_arr =  np.array(list(map(lambda x: tokenizer_ops(x), X_test.values)))"
      ],
      "metadata": {
        "id": "qoSRGt926Gyw"
      },
      "execution_count": null,
      "outputs": []
    },
    {
      "cell_type": "code",
      "source": [
        "X_train_tokens = X_train_arr[:,0,:]\n",
        "X_train_mask = X_train_arr[:,1,:]\n",
        "X_train_segment = X_train_arr[:,2,:]\n",
        "\n",
        "X_test_tokens = X_test_arr[:,0,:]\n",
        "X_test_mask = X_test_arr[:,1,:]\n",
        "X_test_segment = X_test_arr[:,2,:]"
      ],
      "metadata": {
        "id": "K6tqyMsh8MlB"
      },
      "execution_count": null,
      "outputs": []
    },
    {
      "cell_type": "markdown",
      "metadata": {
        "id": "kv1-t4OjqVBj"
      },
      "source": [
        "#### Example\n",
        "<img src='https://i.imgur.com/5AhhmgU.png'>"
      ]
    },
    {
      "cell_type": "code",
      "metadata": {
        "id": "dxhggBxwqVBj"
      },
      "source": [
        "import pickle"
      ],
      "execution_count": null,
      "outputs": []
    },
    {
      "cell_type": "code",
      "metadata": {
        "id": "xF0idMRDqVBm"
      },
      "source": [
        "# save all results to disk so that, no need to run all again. \n",
        "pickle.dump((X_train, X_train_tokens, X_train_mask, X_train_segment, y_train),open('train_data.pkl','wb'))\n",
        "pickle.dump((X_test, X_test_tokens, X_test_mask, X_test_segment, y_test),open('test_data.pkl','wb'))"
      ],
      "execution_count": null,
      "outputs": []
    },
    {
      "cell_type": "code",
      "metadata": {
        "id": "Leu1URGzqVBo"
      },
      "source": [
        "# load from disk\n",
        "X_train, X_train_tokens, X_train_mask, X_train_segment, y_train = pickle.load(open(\"train_data.pkl\", 'rb')) \n",
        "X_test, X_test_tokens, X_test_mask, X_test_segment, y_test = pickle.load(open(\"test_data.pkl\", 'rb')) "
      ],
      "execution_count": null,
      "outputs": []
    },
    {
      "cell_type": "markdown",
      "metadata": {
        "id": "SEj-Eua5qVBx"
      },
      "source": [
        "<pre><font size=6>4.Getting Embeddings from BERT Model</font>\n",
        "We already created the BERT model in the part-2 and input data in the part-3 \n",
        "We will utlize those two and will get the embeddings for each sentence in the \n",
        "Train and test data.</pre>"
      ]
    },
    {
      "cell_type": "code",
      "metadata": {
        "id": "QwOVgQFDqVBy",
        "colab": {
          "base_uri": "https://localhost:8080/"
        },
        "outputId": "b3ce6e8b-24a8-4680-8862-21d3cf411edc"
      },
      "source": [
        "bert_model.input"
      ],
      "execution_count": null,
      "outputs": [
        {
          "output_type": "execute_result",
          "data": {
            "text/plain": [
              "[<KerasTensor: shape=(None, 55) dtype=int32 (created by layer 'input_word_ids')>,\n",
              " <KerasTensor: shape=(None, 55) dtype=int32 (created by layer 'input_mask')>,\n",
              " <KerasTensor: shape=(None, 55) dtype=int32 (created by layer 'segment_ids')>]"
            ]
          },
          "metadata": {},
          "execution_count": 31
        }
      ]
    },
    {
      "cell_type": "code",
      "metadata": {
        "id": "ZcpkQq1OqVB0",
        "colab": {
          "base_uri": "https://localhost:8080/"
        },
        "outputId": "9faaa096-ce46-40ab-e911-7c1c1bac7838"
      },
      "source": [
        "bert_model.output"
      ],
      "execution_count": null,
      "outputs": [
        {
          "output_type": "execute_result",
          "data": {
            "text/plain": [
              "<KerasTensor: shape=(None, 768) dtype=float32 (created by layer 'keras_layer')>"
            ]
          },
          "metadata": {},
          "execution_count": 32
        }
      ]
    },
    {
      "cell_type": "code",
      "metadata": {
        "id": "IxdIlOIBlm7j"
      },
      "source": [
        "# get the train output, BERT model will give one output so save in\n",
        "# X_train_pooled_output\n",
        "#this cell will take some time to execute, make sure thay you have stable internet connection\n",
        "X_train_pooled_output = bert_model.predict([X_train_tokens,X_train_mask,X_train_segment])"
      ],
      "execution_count": null,
      "outputs": []
    },
    {
      "cell_type": "code",
      "metadata": {
        "id": "yZT11BCol4gL"
      },
      "source": [
        "# get the test output, BERT model will give one output so save in\n",
        "# X_test_pooled_output\n",
        "X_test_pooled_output = bert_model.predict([X_test_tokens,X_test_mask,X_test_segment])"
      ],
      "execution_count": null,
      "outputs": []
    },
    {
      "cell_type": "code",
      "metadata": {
        "id": "DL6JVojfqVB8"
      },
      "source": [
        "##save all your results to disk so that, no need to run all again. \n",
        "pickle.dump((X_train_pooled_output, X_test_pooled_output),open('final_output.pkl','wb'))"
      ],
      "execution_count": null,
      "outputs": []
    },
    {
      "cell_type": "code",
      "metadata": {
        "id": "oSQcBdROqVB9"
      },
      "source": [
        "# X_train_pooled_output, X_test_pooled_output= pickle.load(open('final_output.pkl', 'rb'))"
      ],
      "execution_count": null,
      "outputs": []
    },
    {
      "cell_type": "markdown",
      "metadata": {
        "id": "oYwS1QbAqVCD"
      },
      "source": [
        "<pre><font size=6>5.Training a NN with 768 features</font>\n",
        "\n",
        "Create a NN and train the NN. \n",
        "1. Using AUC as metric. We don't tf.keras.metrics.AUC because that calculates AUC batch wise and then averages all over which is not the right way , AUC must be calculated at end of epoch. \n",
        "We write custom code for AUC and print it at the end of each epoch\n",
        "2. Using a basic NN architecture. \n",
        "3. Using tensorboard to log all metrics and losses.\n",
        "4. Print the loss and metric at every epoch. \n",
        "5. Make sure model doesn't overfit or underfit. \n",
        "</pre>"
      ]
    },
    {
      "cell_type": "code",
      "source": [
        "from tensorflow.keras import callbacks\n",
        "from tensorflow.keras.callbacks import Callback"
      ],
      "metadata": {
        "id": "efrwgxzliUTp"
      },
      "execution_count": null,
      "outputs": []
    },
    {
      "cell_type": "code",
      "source": [
        "#class weight \n",
        "class_w_dict = {}\n",
        "num_samples = len(y_train)\n",
        "num_classes = 2\n",
        "samples_per_class = np.bincount(y_train)\n",
        "for i in range(2):\n",
        "    class_w_dict[i] = num_samples/(num_classes*samples_per_class[i])"
      ],
      "metadata": {
        "id": "gnJQqwh0TnCz"
      },
      "execution_count": null,
      "outputs": []
    },
    {
      "cell_type": "code",
      "source": [
        "#custom AUC metric\n",
        "from sklearn.metrics import roc_auc_score\n",
        "def auc_roc(y_true, y_pred):\n",
        "    return tf.py_function(roc_auc_score, (y_true, y_pred), tf.float32)"
      ],
      "metadata": {
        "id": "wehNmGaYUbg2"
      },
      "execution_count": null,
      "outputs": []
    },
    {
      "cell_type": "code",
      "source": [
        "import os \n",
        "import datetime"
      ],
      "metadata": {
        "id": "eTPUo9M5e3dU"
      },
      "execution_count": null,
      "outputs": []
    },
    {
      "cell_type": "code",
      "source": [
        "#writing callbacks\n",
        "path = f'checkpoints' + '/weights-{epoch:02d}-{val_auc_roc:.4f}.hdf5'\n",
        "checkpoint_cb= callbacks.ModelCheckpoint(filepath = path, monitor = 'val_auc_roc', \n",
        "                                                save_best_only=True, verbose=0, mode='max')\n",
        "    \n",
        "earlystop_callback = callbacks.EarlyStopping(monitor='val_auc_roc', min_delta=0.0001, \n",
        "                                                   patience=20, verbose=1, mode='max', restore_best_weights=True)\n",
        "\n",
        "reduce_lr_cb = callbacks.ReduceLROnPlateau(monitor='val_auc_roc', patience = 3, factor = 0.6, mode='max', min_delta = 0.0001, min_lr=1e-7)\n",
        "\n",
        "log_dir = os.path.join(f'logs','fits', datetime.datetime.now().strftime(\"%Y%m%d-%H%M%S\"))\n",
        "tensorboard_cb = callbacks.TensorBoard(log_dir=log_dir,histogram_freq=1,write_graph=True)\n",
        "\n",
        "callback_list = [checkpoint_cb, earlystop_callback, tensorboard_cb, reduce_lr_cb]"
      ],
      "metadata": {
        "id": "rrHLytSAGVTf"
      },
      "execution_count": null,
      "outputs": []
    },
    {
      "cell_type": "code",
      "metadata": {
        "id": "od8PQlYRqVCE"
      },
      "source": [
        "##imports\n",
        "from tensorflow.keras.layers import Input, Dense, Activation, Dropout, LSTM\n",
        "from tensorflow.keras.models import Model"
      ],
      "execution_count": null,
      "outputs": []
    },
    {
      "cell_type": "code",
      "metadata": {
        "id": "DSnmX3WnqVCG",
        "colab": {
          "base_uri": "https://localhost:8080/"
        },
        "outputId": "42f67fe2-d849-4da3-bc9b-1f57c3aff29d"
      },
      "source": [
        "#building the model architecture\n",
        "tf.keras.backend.clear_session()\n",
        "\n",
        "input_layer=Input(shape=(X_train_pooled_output.shape[1],))\n",
        "\n",
        "dense_1 = Dense(512, activation='relu', kernel_initializer='he_normal')(input_layer)\n",
        "dropout_1 = Dropout(0.4)(dense_1)\n",
        "\n",
        "dense_2 = Dense(512, activation='relu', kernel_initializer='he_normal')(dropout_1)\n",
        "dropout_2 = Dropout(0.4)(dense_2)\n",
        "\n",
        "dense_3 = Dense(1024, activation='relu', kernel_initializer='he_normal')(dropout_2)\n",
        "dropout_3 = Dropout(0.4)(dense_3)\n",
        "\n",
        "dense_4 = Dense(1024, activation='relu', kernel_initializer='he_normal')(dropout_3)\n",
        "dropout_4 = Dropout(0.4)(dense_4)\n",
        "\n",
        "dense_5 = Dense(2048, activation='relu', kernel_initializer='he_normal')(dropout_4)\n",
        "dropout_5 = Dropout(0.5)(dense_5)\n",
        "\n",
        "dense_6 = Dense(2048, activation='relu', kernel_initializer='he_normal')(dropout_5)\n",
        "dropout_6 = Dropout(0.5)(dense_6)\n",
        "\n",
        "output_layer = Dense(1, activation='sigmoid')(dropout_5)\n",
        "\n",
        "model = Model(inputs = input_layer, outputs = output_layer)\n",
        "model.summary()"
      ],
      "execution_count": null,
      "outputs": [
        {
          "output_type": "stream",
          "name": "stdout",
          "text": [
            "Model: \"model\"\n",
            "_________________________________________________________________\n",
            " Layer (type)                Output Shape              Param #   \n",
            "=================================================================\n",
            " input_1 (InputLayer)        [(None, 768)]             0         \n",
            "                                                                 \n",
            " dense (Dense)               (None, 512)               393728    \n",
            "                                                                 \n",
            " dropout (Dropout)           (None, 512)               0         \n",
            "                                                                 \n",
            " dense_1 (Dense)             (None, 512)               262656    \n",
            "                                                                 \n",
            " dropout_1 (Dropout)         (None, 512)               0         \n",
            "                                                                 \n",
            " dense_2 (Dense)             (None, 1024)              525312    \n",
            "                                                                 \n",
            " dropout_2 (Dropout)         (None, 1024)              0         \n",
            "                                                                 \n",
            " dense_3 (Dense)             (None, 1024)              1049600   \n",
            "                                                                 \n",
            " dropout_3 (Dropout)         (None, 1024)              0         \n",
            "                                                                 \n",
            " dense_4 (Dense)             (None, 2048)              2099200   \n",
            "                                                                 \n",
            " dropout_4 (Dropout)         (None, 2048)              0         \n",
            "                                                                 \n",
            " dense_6 (Dense)             (None, 1)                 2049      \n",
            "                                                                 \n",
            "=================================================================\n",
            "Total params: 4,332,545\n",
            "Trainable params: 4,332,545\n",
            "Non-trainable params: 0\n",
            "_________________________________________________________________\n"
          ]
        }
      ]
    },
    {
      "cell_type": "code",
      "source": [
        "#training the model\n",
        "model.compile(optimizer = 'adam', loss = 'binary_crossentropy', metrics = ['accuracy', auc_roc])\n",
        "history = model.fit(x = X_train_pooled_output, y = y_train, validation_data=[X_test_pooled_output, y_test], class_weight = class_w_dict, epochs = 100, batch_size = 512, verbose=2, callbacks=callback_list)"
      ],
      "metadata": {
        "colab": {
          "base_uri": "https://localhost:8080/"
        },
        "id": "GfviJqReHg4T",
        "outputId": "0d26e238-cab5-4439-b2e4-ed1384f6fffa"
      },
      "execution_count": null,
      "outputs": [
        {
          "output_type": "stream",
          "name": "stdout",
          "text": [
            "Epoch 1/100\n",
            "157/157 - 3s - loss: 0.7059 - accuracy: 0.6366 - auc_roc: 0.7050 - val_loss: 0.5556 - val_accuracy: 0.7225 - val_auc_roc: 0.9072 - lr: 0.0010 - 3s/epoch - 21ms/step\n",
            "Epoch 2/100\n",
            "157/157 - 3s - loss: 0.4619 - accuracy: 0.7402 - auc_roc: 0.8680 - val_loss: 0.2584 - val_accuracy: 0.9028 - val_auc_roc: 0.9309 - lr: 0.0010 - 3s/epoch - 17ms/step\n",
            "Epoch 3/100\n",
            "157/157 - 2s - loss: 0.5076 - accuracy: 0.6652 - auc_roc: 0.8133 - val_loss: 0.3681 - val_accuracy: 0.8408 - val_auc_roc: 0.9323 - lr: 0.0010 - 2s/epoch - 16ms/step\n",
            "Epoch 4/100\n",
            "157/157 - 2s - loss: 0.4849 - accuracy: 0.6902 - auc_roc: 0.8273 - val_loss: 0.3950 - val_accuracy: 0.9126 - val_auc_roc: 0.9330 - lr: 0.0010 - 2s/epoch - 14ms/step\n",
            "Epoch 5/100\n",
            "157/157 - 2s - loss: 0.4865 - accuracy: 0.6992 - auc_roc: 0.8275 - val_loss: 0.2824 - val_accuracy: 0.8939 - val_auc_roc: 0.9404 - lr: 0.0010 - 2s/epoch - 14ms/step\n",
            "Epoch 6/100\n",
            "157/157 - 2s - loss: 0.4748 - accuracy: 0.7305 - auc_roc: 0.8306 - val_loss: 0.3323 - val_accuracy: 0.9109 - val_auc_roc: 0.9418 - lr: 0.0010 - 2s/epoch - 14ms/step\n",
            "Epoch 7/100\n",
            "157/157 - 2s - loss: 0.4719 - accuracy: 0.7955 - auc_roc: 0.8329 - val_loss: 0.4862 - val_accuracy: 0.6957 - val_auc_roc: 0.9383 - lr: 0.0010 - 2s/epoch - 13ms/step\n",
            "Epoch 8/100\n",
            "157/157 - 2s - loss: 0.4685 - accuracy: 0.7177 - auc_roc: 0.8350 - val_loss: 0.2577 - val_accuracy: 0.9098 - val_auc_roc: 0.9453 - lr: 0.0010 - 2s/epoch - 15ms/step\n",
            "Epoch 9/100\n",
            "157/157 - 2s - loss: 0.4661 - accuracy: 0.7215 - auc_roc: 0.8360 - val_loss: 0.3061 - val_accuracy: 0.9204 - val_auc_roc: 0.9459 - lr: 0.0010 - 2s/epoch - 14ms/step\n",
            "Epoch 10/100\n",
            "157/157 - 2s - loss: 0.4614 - accuracy: 0.7395 - auc_roc: 0.8393 - val_loss: 0.3604 - val_accuracy: 0.8371 - val_auc_roc: 0.9458 - lr: 0.0010 - 2s/epoch - 13ms/step\n",
            "Epoch 11/100\n",
            "157/157 - 2s - loss: 0.4638 - accuracy: 0.7040 - auc_roc: 0.8381 - val_loss: 0.3949 - val_accuracy: 0.9036 - val_auc_roc: 0.9455 - lr: 0.0010 - 2s/epoch - 14ms/step\n",
            "Epoch 12/100\n",
            "157/157 - 2s - loss: 0.4651 - accuracy: 0.7327 - auc_roc: 0.8402 - val_loss: 0.3115 - val_accuracy: 0.9191 - val_auc_roc: 0.9473 - lr: 0.0010 - 2s/epoch - 15ms/step\n",
            "Epoch 13/100\n",
            "157/157 - 2s - loss: 0.4616 - accuracy: 0.7011 - auc_roc: 0.8389 - val_loss: 0.3088 - val_accuracy: 0.9208 - val_auc_roc: 0.9469 - lr: 0.0010 - 2s/epoch - 14ms/step\n",
            "Epoch 14/100\n",
            "157/157 - 2s - loss: 0.4609 - accuracy: 0.7160 - auc_roc: 0.8381 - val_loss: 0.3506 - val_accuracy: 0.9036 - val_auc_roc: 0.9482 - lr: 0.0010 - 2s/epoch - 15ms/step\n",
            "Epoch 15/100\n",
            "157/157 - 2s - loss: 0.4639 - accuracy: 0.7033 - auc_roc: 0.8404 - val_loss: 0.2711 - val_accuracy: 0.9032 - val_auc_roc: 0.9472 - lr: 0.0010 - 2s/epoch - 13ms/step\n",
            "Epoch 16/100\n",
            "157/157 - 2s - loss: 0.4616 - accuracy: 0.7799 - auc_roc: 0.8415 - val_loss: 0.2466 - val_accuracy: 0.9070 - val_auc_roc: 0.9498 - lr: 0.0010 - 2s/epoch - 15ms/step\n",
            "Epoch 17/100\n",
            "157/157 - 3s - loss: 0.4572 - accuracy: 0.7672 - auc_roc: 0.8441 - val_loss: 0.4551 - val_accuracy: 0.7583 - val_auc_roc: 0.9480 - lr: 0.0010 - 3s/epoch - 20ms/step\n",
            "Epoch 18/100\n",
            "157/157 - 3s - loss: 0.4586 - accuracy: 0.7262 - auc_roc: 0.8405 - val_loss: 0.3551 - val_accuracy: 0.9065 - val_auc_roc: 0.9498 - lr: 0.0010 - 3s/epoch - 18ms/step\n",
            "Epoch 19/100\n",
            "157/157 - 2s - loss: 0.4519 - accuracy: 0.7016 - auc_roc: 0.8460 - val_loss: 0.2559 - val_accuracy: 0.8864 - val_auc_roc: 0.9504 - lr: 0.0010 - 2s/epoch - 15ms/step\n",
            "Epoch 20/100\n",
            "157/157 - 2s - loss: 0.4601 - accuracy: 0.7154 - auc_roc: 0.8408 - val_loss: 0.3890 - val_accuracy: 0.8900 - val_auc_roc: 0.9481 - lr: 0.0010 - 2s/epoch - 14ms/step\n",
            "Epoch 21/100\n",
            "157/157 - 2s - loss: 0.4588 - accuracy: 0.7325 - auc_roc: 0.8420 - val_loss: 0.3182 - val_accuracy: 0.8699 - val_auc_roc: 0.9513 - lr: 0.0010 - 2s/epoch - 15ms/step\n",
            "Epoch 22/100\n",
            "157/157 - 2s - loss: 0.4545 - accuracy: 0.7600 - auc_roc: 0.8451 - val_loss: 0.2374 - val_accuracy: 0.9030 - val_auc_roc: 0.9516 - lr: 0.0010 - 2s/epoch - 15ms/step\n",
            "Epoch 23/100\n",
            "157/157 - 2s - loss: 0.4553 - accuracy: 0.7345 - auc_roc: 0.8433 - val_loss: 0.3016 - val_accuracy: 0.9042 - val_auc_roc: 0.9516 - lr: 0.0010 - 2s/epoch - 13ms/step\n",
            "Epoch 24/100\n",
            "157/157 - 2s - loss: 0.4543 - accuracy: 0.7787 - auc_roc: 0.8453 - val_loss: 0.2941 - val_accuracy: 0.8935 - val_auc_roc: 0.9518 - lr: 0.0010 - 2s/epoch - 14ms/step\n",
            "Epoch 25/100\n",
            "157/157 - 2s - loss: 0.4481 - accuracy: 0.7560 - auc_roc: 0.8472 - val_loss: 0.2067 - val_accuracy: 0.9075 - val_auc_roc: 0.9520 - lr: 0.0010 - 2s/epoch - 15ms/step\n",
            "Epoch 26/100\n",
            "157/157 - 2s - loss: 0.4472 - accuracy: 0.7664 - auc_roc: 0.8471 - val_loss: 0.2352 - val_accuracy: 0.9050 - val_auc_roc: 0.9521 - lr: 0.0010 - 2s/epoch - 15ms/step\n",
            "Epoch 27/100\n",
            "157/157 - 2s - loss: 0.4456 - accuracy: 0.6997 - auc_roc: 0.8478 - val_loss: 0.2683 - val_accuracy: 0.8551 - val_auc_roc: 0.9524 - lr: 0.0010 - 2s/epoch - 15ms/step\n",
            "Epoch 28/100\n",
            "157/157 - 2s - loss: 0.4502 - accuracy: 0.7746 - auc_roc: 0.8479 - val_loss: 0.2657 - val_accuracy: 0.8917 - val_auc_roc: 0.9526 - lr: 0.0010 - 2s/epoch - 15ms/step\n",
            "Epoch 29/100\n",
            "157/157 - 2s - loss: 0.4522 - accuracy: 0.7903 - auc_roc: 0.8459 - val_loss: 0.2858 - val_accuracy: 0.9159 - val_auc_roc: 0.9531 - lr: 0.0010 - 2s/epoch - 15ms/step\n",
            "Epoch 30/100\n",
            "157/157 - 2s - loss: 0.4460 - accuracy: 0.8004 - auc_roc: 0.8481 - val_loss: 0.3382 - val_accuracy: 0.8213 - val_auc_roc: 0.9511 - lr: 0.0010 - 2s/epoch - 14ms/step\n",
            "Epoch 31/100\n",
            "157/157 - 2s - loss: 0.4523 - accuracy: 0.6888 - auc_roc: 0.8460 - val_loss: 0.3086 - val_accuracy: 0.8435 - val_auc_roc: 0.9518 - lr: 0.0010 - 2s/epoch - 14ms/step\n",
            "Epoch 32/100\n",
            "157/157 - 2s - loss: 0.4419 - accuracy: 0.7591 - auc_roc: 0.8501 - val_loss: 0.3487 - val_accuracy: 0.8521 - val_auc_roc: 0.9530 - lr: 0.0010 - 2s/epoch - 14ms/step\n",
            "Epoch 33/100\n",
            "157/157 - 2s - loss: 0.4459 - accuracy: 0.6815 - auc_roc: 0.8485 - val_loss: 0.2361 - val_accuracy: 0.9134 - val_auc_roc: 0.9534 - lr: 6.0000e-04 - 2s/epoch - 15ms/step\n",
            "Epoch 34/100\n",
            "157/157 - 2s - loss: 0.4428 - accuracy: 0.6817 - auc_roc: 0.8493 - val_loss: 0.3008 - val_accuracy: 0.8964 - val_auc_roc: 0.9538 - lr: 6.0000e-04 - 2s/epoch - 15ms/step\n",
            "Epoch 35/100\n",
            "157/157 - 2s - loss: 0.4427 - accuracy: 0.7134 - auc_roc: 0.8496 - val_loss: 0.2779 - val_accuracy: 0.8906 - val_auc_roc: 0.9532 - lr: 6.0000e-04 - 2s/epoch - 13ms/step\n",
            "Epoch 36/100\n",
            "157/157 - 2s - loss: 0.4414 - accuracy: 0.7953 - auc_roc: 0.8505 - val_loss: 0.2382 - val_accuracy: 0.9183 - val_auc_roc: 0.9534 - lr: 6.0000e-04 - 2s/epoch - 14ms/step\n",
            "Epoch 37/100\n",
            "157/157 - 2s - loss: 0.4410 - accuracy: 0.7581 - auc_roc: 0.8491 - val_loss: 0.3260 - val_accuracy: 0.8786 - val_auc_roc: 0.9538 - lr: 6.0000e-04 - 2s/epoch - 14ms/step\n",
            "Epoch 38/100\n",
            "157/157 - 2s - loss: 0.4366 - accuracy: 0.7326 - auc_roc: 0.8525 - val_loss: 0.3116 - val_accuracy: 0.9133 - val_auc_roc: 0.9533 - lr: 3.6000e-04 - 2s/epoch - 14ms/step\n",
            "Epoch 39/100\n",
            "157/157 - 2s - loss: 0.4420 - accuracy: 0.7490 - auc_roc: 0.8479 - val_loss: 0.3791 - val_accuracy: 0.7794 - val_auc_roc: 0.9524 - lr: 3.6000e-04 - 2s/epoch - 14ms/step\n",
            "Epoch 40/100\n",
            "157/157 - 2s - loss: 0.4377 - accuracy: 0.6818 - auc_roc: 0.8485 - val_loss: 0.2959 - val_accuracy: 0.8827 - val_auc_roc: 0.9544 - lr: 3.6000e-04 - 2s/epoch - 15ms/step\n",
            "Epoch 41/100\n",
            "157/157 - 3s - loss: 0.4351 - accuracy: 0.7240 - auc_roc: 0.8515 - val_loss: 0.3936 - val_accuracy: 0.8914 - val_auc_roc: 0.9497 - lr: 3.6000e-04 - 3s/epoch - 17ms/step\n",
            "Epoch 42/100\n",
            "157/157 - 2s - loss: 0.4341 - accuracy: 0.8055 - auc_roc: 0.8544 - val_loss: 0.3264 - val_accuracy: 0.8858 - val_auc_roc: 0.9542 - lr: 3.6000e-04 - 2s/epoch - 14ms/step\n",
            "Epoch 43/100\n",
            "157/157 - 2s - loss: 0.4348 - accuracy: 0.7187 - auc_roc: 0.8510 - val_loss: 0.2819 - val_accuracy: 0.9121 - val_auc_roc: 0.9547 - lr: 3.6000e-04 - 2s/epoch - 15ms/step\n",
            "Epoch 44/100\n",
            "157/157 - 2s - loss: 0.4353 - accuracy: 0.8172 - auc_roc: 0.8520 - val_loss: 0.2688 - val_accuracy: 0.9013 - val_auc_roc: 0.9545 - lr: 3.6000e-04 - 2s/epoch - 13ms/step\n",
            "Epoch 45/100\n",
            "157/157 - 2s - loss: 0.4368 - accuracy: 0.7512 - auc_roc: 0.8518 - val_loss: 0.2893 - val_accuracy: 0.9067 - val_auc_roc: 0.9544 - lr: 3.6000e-04 - 2s/epoch - 13ms/step\n",
            "Epoch 46/100\n",
            "157/157 - 2s - loss: 0.4353 - accuracy: 0.7389 - auc_roc: 0.8539 - val_loss: 0.2689 - val_accuracy: 0.9069 - val_auc_roc: 0.9546 - lr: 3.6000e-04 - 2s/epoch - 14ms/step\n",
            "Epoch 47/100\n",
            "157/157 - 2s - loss: 0.4367 - accuracy: 0.6554 - auc_roc: 0.8494 - val_loss: 0.3302 - val_accuracy: 0.8231 - val_auc_roc: 0.9532 - lr: 2.1600e-04 - 2s/epoch - 13ms/step\n",
            "Epoch 48/100\n",
            "157/157 - 2s - loss: 0.4315 - accuracy: 0.6867 - auc_roc: 0.8541 - val_loss: 0.2577 - val_accuracy: 0.9102 - val_auc_roc: 0.9551 - lr: 2.1600e-04 - 2s/epoch - 15ms/step\n",
            "Epoch 49/100\n",
            "157/157 - 2s - loss: 0.4310 - accuracy: 0.7555 - auc_roc: 0.8533 - val_loss: 0.2788 - val_accuracy: 0.8655 - val_auc_roc: 0.9548 - lr: 2.1600e-04 - 2s/epoch - 13ms/step\n",
            "Epoch 50/100\n",
            "157/157 - 2s - loss: 0.4324 - accuracy: 0.7771 - auc_roc: 0.8555 - val_loss: 0.2376 - val_accuracy: 0.9149 - val_auc_roc: 0.9553 - lr: 2.1600e-04 - 2s/epoch - 15ms/step\n",
            "Epoch 51/100\n",
            "157/157 - 2s - loss: 0.4359 - accuracy: 0.7264 - auc_roc: 0.8516 - val_loss: 0.2671 - val_accuracy: 0.8927 - val_auc_roc: 0.9552 - lr: 2.1600e-04 - 2s/epoch - 13ms/step\n",
            "Epoch 52/100\n",
            "157/157 - 2s - loss: 0.4335 - accuracy: 0.7582 - auc_roc: 0.8536 - val_loss: 0.3191 - val_accuracy: 0.9029 - val_auc_roc: 0.9539 - lr: 2.1600e-04 - 2s/epoch - 13ms/step\n",
            "Epoch 53/100\n",
            "157/157 - 2s - loss: 0.4335 - accuracy: 0.7121 - auc_roc: 0.8526 - val_loss: 0.2634 - val_accuracy: 0.8819 - val_auc_roc: 0.9555 - lr: 2.1600e-04 - 2s/epoch - 15ms/step\n",
            "Epoch 54/100\n",
            "157/157 - 2s - loss: 0.4361 - accuracy: 0.6768 - auc_roc: 0.8496 - val_loss: 0.3188 - val_accuracy: 0.9002 - val_auc_roc: 0.9543 - lr: 2.1600e-04 - 2s/epoch - 14ms/step\n",
            "Epoch 55/100\n",
            "157/157 - 2s - loss: 0.4352 - accuracy: 0.7168 - auc_roc: 0.8517 - val_loss: 0.3106 - val_accuracy: 0.8794 - val_auc_roc: 0.9549 - lr: 2.1600e-04 - 2s/epoch - 14ms/step\n",
            "Epoch 56/100\n",
            "157/157 - 2s - loss: 0.4349 - accuracy: 0.7798 - auc_roc: 0.8533 - val_loss: 0.2388 - val_accuracy: 0.9117 - val_auc_roc: 0.9553 - lr: 2.1600e-04 - 2s/epoch - 14ms/step\n",
            "Epoch 57/100\n",
            "157/157 - 2s - loss: 0.4302 - accuracy: 0.7497 - auc_roc: 0.8537 - val_loss: 0.2634 - val_accuracy: 0.9039 - val_auc_roc: 0.9555 - lr: 1.2960e-04 - 2s/epoch - 15ms/step\n",
            "Epoch 58/100\n",
            "157/157 - 2s - loss: 0.4297 - accuracy: 0.7664 - auc_roc: 0.8572 - val_loss: 0.2748 - val_accuracy: 0.8991 - val_auc_roc: 0.9554 - lr: 1.2960e-04 - 2s/epoch - 14ms/step\n",
            "Epoch 59/100\n",
            "157/157 - 2s - loss: 0.4333 - accuracy: 0.7314 - auc_roc: 0.8527 - val_loss: 0.3122 - val_accuracy: 0.9027 - val_auc_roc: 0.9542 - lr: 1.2960e-04 - 2s/epoch - 13ms/step\n",
            "Epoch 60/100\n",
            "157/157 - 2s - loss: 0.4314 - accuracy: 0.7683 - auc_roc: 0.8542 - val_loss: 0.2650 - val_accuracy: 0.9121 - val_auc_roc: 0.9555 - lr: 7.7760e-05 - 2s/epoch - 13ms/step\n",
            "Epoch 61/100\n",
            "157/157 - 2s - loss: 0.4294 - accuracy: 0.7638 - auc_roc: 0.8539 - val_loss: 0.2747 - val_accuracy: 0.8978 - val_auc_roc: 0.9553 - lr: 7.7760e-05 - 2s/epoch - 13ms/step\n",
            "Epoch 62/100\n",
            "157/157 - 2s - loss: 0.4293 - accuracy: 0.7818 - auc_roc: 0.8545 - val_loss: 0.2817 - val_accuracy: 0.9103 - val_auc_roc: 0.9548 - lr: 7.7760e-05 - 2s/epoch - 14ms/step\n",
            "Epoch 63/100\n",
            "157/157 - 2s - loss: 0.4278 - accuracy: 0.7905 - auc_roc: 0.8549 - val_loss: 0.2817 - val_accuracy: 0.9097 - val_auc_roc: 0.9549 - lr: 4.6656e-05 - 2s/epoch - 13ms/step\n",
            "Epoch 64/100\n",
            "157/157 - 2s - loss: 0.4315 - accuracy: 0.7782 - auc_roc: 0.8523 - val_loss: 0.2796 - val_accuracy: 0.9154 - val_auc_roc: 0.9550 - lr: 4.6656e-05 - 2s/epoch - 13ms/step\n",
            "Epoch 65/100\n",
            "157/157 - 2s - loss: 0.4312 - accuracy: 0.7424 - auc_roc: 0.8517 - val_loss: 0.2888 - val_accuracy: 0.8722 - val_auc_roc: 0.9549 - lr: 4.6656e-05 - 2s/epoch - 14ms/step\n",
            "Epoch 66/100\n",
            "157/157 - 2s - loss: 0.4333 - accuracy: 0.6717 - auc_roc: 0.8532 - val_loss: 0.2870 - val_accuracy: 0.8686 - val_auc_roc: 0.9551 - lr: 2.7994e-05 - 2s/epoch - 14ms/step\n",
            "Epoch 67/100\n",
            "157/157 - 2s - loss: 0.4323 - accuracy: 0.6823 - auc_roc: 0.8534 - val_loss: 0.2704 - val_accuracy: 0.8951 - val_auc_roc: 0.9555 - lr: 2.7994e-05 - 2s/epoch - 15ms/step\n",
            "Epoch 68/100\n",
            "157/157 - 2s - loss: 0.4291 - accuracy: 0.7000 - auc_roc: 0.8537 - val_loss: 0.2692 - val_accuracy: 0.9065 - val_auc_roc: 0.9552 - lr: 2.7994e-05 - 2s/epoch - 13ms/step\n",
            "Epoch 69/100\n",
            "157/157 - 2s - loss: 0.4281 - accuracy: 0.7050 - auc_roc: 0.8556 - val_loss: 0.2888 - val_accuracy: 0.9087 - val_auc_roc: 0.9550 - lr: 1.6796e-05 - 2s/epoch - 14ms/step\n",
            "Epoch 70/100\n",
            "157/157 - 2s - loss: 0.4276 - accuracy: 0.7219 - auc_roc: 0.8537 - val_loss: 0.2775 - val_accuracy: 0.9084 - val_auc_roc: 0.9551 - lr: 1.6796e-05 - 2s/epoch - 13ms/step\n",
            "Epoch 71/100\n",
            "157/157 - 2s - loss: 0.4294 - accuracy: 0.7229 - auc_roc: 0.8521 - val_loss: 0.2869 - val_accuracy: 0.9065 - val_auc_roc: 0.9550 - lr: 1.6796e-05 - 2s/epoch - 13ms/step\n",
            "Epoch 72/100\n",
            "157/157 - 2s - loss: 0.4266 - accuracy: 0.7116 - auc_roc: 0.8541 - val_loss: 0.2797 - val_accuracy: 0.9077 - val_auc_roc: 0.9550 - lr: 1.0078e-05 - 2s/epoch - 14ms/step\n",
            "Epoch 73/100\n",
            "Restoring model weights from the end of the best epoch: 53.\n",
            "157/157 - 2s - loss: 0.4260 - accuracy: 0.7167 - auc_roc: 0.8562 - val_loss: 0.2710 - val_accuracy: 0.9117 - val_auc_roc: 0.9553 - lr: 1.0078e-05 - 2s/epoch - 14ms/step\n",
            "Epoch 73: early stopping\n"
          ]
        }
      ]
    },
    {
      "cell_type": "code",
      "source": [
        "%load_ext tensorboard"
      ],
      "metadata": {
        "colab": {
          "base_uri": "https://localhost:8080/"
        },
        "id": "mLLAHX1HhTdP",
        "outputId": "557e4b85-cf19-4811-a38d-ca1b904fde0a"
      },
      "execution_count": null,
      "outputs": [
        {
          "output_type": "stream",
          "name": "stdout",
          "text": [
            "The tensorboard extension is already loaded. To reload it, use:\n",
            "  %reload_ext tensorboard\n"
          ]
        }
      ]
    },
    {
      "cell_type": "code",
      "source": [
        "results = pd.DataFrame(history.history)\n",
        "results.sort_values(by = 'val_auc_roc', axis=0, ascending=False, inplace=True)"
      ],
      "metadata": {
        "id": "z9H16FHJhc49"
      },
      "execution_count": null,
      "outputs": []
    },
    {
      "cell_type": "code",
      "source": [
        "results.head()"
      ],
      "metadata": {
        "colab": {
          "base_uri": "https://localhost:8080/",
          "height": 206
        },
        "id": "fkj0XPjciEqE",
        "outputId": "de4f12b9-323b-4681-b973-9ef3221573cd"
      },
      "execution_count": null,
      "outputs": [
        {
          "output_type": "execute_result",
          "data": {
            "text/plain": [
              "        loss  accuracy   auc_roc  val_loss  val_accuracy  val_auc_roc  \\\n",
              "66  0.432277  0.682275  0.853434  0.270366       0.89510     0.955501   \n",
              "56  0.430207  0.749713  0.853662  0.263441       0.90385     0.955496   \n",
              "52  0.433495  0.712062  0.852616  0.263442       0.88185     0.955460   \n",
              "59  0.431399  0.768313  0.854221  0.264952       0.91210     0.955457   \n",
              "57  0.429688  0.766388  0.857228  0.274765       0.89910     0.955387   \n",
              "\n",
              "          lr  \n",
              "66  0.000028  \n",
              "56  0.000130  \n",
              "52  0.000216  \n",
              "59  0.000078  \n",
              "57  0.000130  "
            ],
            "text/html": [
              "\n",
              "  <div id=\"df-8f104ef5-d930-4b49-9988-2aef29028d94\">\n",
              "    <div class=\"colab-df-container\">\n",
              "      <div>\n",
              "<style scoped>\n",
              "    .dataframe tbody tr th:only-of-type {\n",
              "        vertical-align: middle;\n",
              "    }\n",
              "\n",
              "    .dataframe tbody tr th {\n",
              "        vertical-align: top;\n",
              "    }\n",
              "\n",
              "    .dataframe thead th {\n",
              "        text-align: right;\n",
              "    }\n",
              "</style>\n",
              "<table border=\"1\" class=\"dataframe\">\n",
              "  <thead>\n",
              "    <tr style=\"text-align: right;\">\n",
              "      <th></th>\n",
              "      <th>loss</th>\n",
              "      <th>accuracy</th>\n",
              "      <th>auc_roc</th>\n",
              "      <th>val_loss</th>\n",
              "      <th>val_accuracy</th>\n",
              "      <th>val_auc_roc</th>\n",
              "      <th>lr</th>\n",
              "    </tr>\n",
              "  </thead>\n",
              "  <tbody>\n",
              "    <tr>\n",
              "      <th>66</th>\n",
              "      <td>0.432277</td>\n",
              "      <td>0.682275</td>\n",
              "      <td>0.853434</td>\n",
              "      <td>0.270366</td>\n",
              "      <td>0.89510</td>\n",
              "      <td>0.955501</td>\n",
              "      <td>0.000028</td>\n",
              "    </tr>\n",
              "    <tr>\n",
              "      <th>56</th>\n",
              "      <td>0.430207</td>\n",
              "      <td>0.749713</td>\n",
              "      <td>0.853662</td>\n",
              "      <td>0.263441</td>\n",
              "      <td>0.90385</td>\n",
              "      <td>0.955496</td>\n",
              "      <td>0.000130</td>\n",
              "    </tr>\n",
              "    <tr>\n",
              "      <th>52</th>\n",
              "      <td>0.433495</td>\n",
              "      <td>0.712062</td>\n",
              "      <td>0.852616</td>\n",
              "      <td>0.263442</td>\n",
              "      <td>0.88185</td>\n",
              "      <td>0.955460</td>\n",
              "      <td>0.000216</td>\n",
              "    </tr>\n",
              "    <tr>\n",
              "      <th>59</th>\n",
              "      <td>0.431399</td>\n",
              "      <td>0.768313</td>\n",
              "      <td>0.854221</td>\n",
              "      <td>0.264952</td>\n",
              "      <td>0.91210</td>\n",
              "      <td>0.955457</td>\n",
              "      <td>0.000078</td>\n",
              "    </tr>\n",
              "    <tr>\n",
              "      <th>57</th>\n",
              "      <td>0.429688</td>\n",
              "      <td>0.766388</td>\n",
              "      <td>0.857228</td>\n",
              "      <td>0.274765</td>\n",
              "      <td>0.89910</td>\n",
              "      <td>0.955387</td>\n",
              "      <td>0.000130</td>\n",
              "    </tr>\n",
              "  </tbody>\n",
              "</table>\n",
              "</div>\n",
              "      <button class=\"colab-df-convert\" onclick=\"convertToInteractive('df-8f104ef5-d930-4b49-9988-2aef29028d94')\"\n",
              "              title=\"Convert this dataframe to an interactive table.\"\n",
              "              style=\"display:none;\">\n",
              "        \n",
              "  <svg xmlns=\"http://www.w3.org/2000/svg\" height=\"24px\"viewBox=\"0 0 24 24\"\n",
              "       width=\"24px\">\n",
              "    <path d=\"M0 0h24v24H0V0z\" fill=\"none\"/>\n",
              "    <path d=\"M18.56 5.44l.94 2.06.94-2.06 2.06-.94-2.06-.94-.94-2.06-.94 2.06-2.06.94zm-11 1L8.5 8.5l.94-2.06 2.06-.94-2.06-.94L8.5 2.5l-.94 2.06-2.06.94zm10 10l.94 2.06.94-2.06 2.06-.94-2.06-.94-.94-2.06-.94 2.06-2.06.94z\"/><path d=\"M17.41 7.96l-1.37-1.37c-.4-.4-.92-.59-1.43-.59-.52 0-1.04.2-1.43.59L10.3 9.45l-7.72 7.72c-.78.78-.78 2.05 0 2.83L4 21.41c.39.39.9.59 1.41.59.51 0 1.02-.2 1.41-.59l7.78-7.78 2.81-2.81c.8-.78.8-2.07 0-2.86zM5.41 20L4 18.59l7.72-7.72 1.47 1.35L5.41 20z\"/>\n",
              "  </svg>\n",
              "      </button>\n",
              "      \n",
              "  <style>\n",
              "    .colab-df-container {\n",
              "      display:flex;\n",
              "      flex-wrap:wrap;\n",
              "      gap: 12px;\n",
              "    }\n",
              "\n",
              "    .colab-df-convert {\n",
              "      background-color: #E8F0FE;\n",
              "      border: none;\n",
              "      border-radius: 50%;\n",
              "      cursor: pointer;\n",
              "      display: none;\n",
              "      fill: #1967D2;\n",
              "      height: 32px;\n",
              "      padding: 0 0 0 0;\n",
              "      width: 32px;\n",
              "    }\n",
              "\n",
              "    .colab-df-convert:hover {\n",
              "      background-color: #E2EBFA;\n",
              "      box-shadow: 0px 1px 2px rgba(60, 64, 67, 0.3), 0px 1px 3px 1px rgba(60, 64, 67, 0.15);\n",
              "      fill: #174EA6;\n",
              "    }\n",
              "\n",
              "    [theme=dark] .colab-df-convert {\n",
              "      background-color: #3B4455;\n",
              "      fill: #D2E3FC;\n",
              "    }\n",
              "\n",
              "    [theme=dark] .colab-df-convert:hover {\n",
              "      background-color: #434B5C;\n",
              "      box-shadow: 0px 1px 3px 1px rgba(0, 0, 0, 0.15);\n",
              "      filter: drop-shadow(0px 1px 2px rgba(0, 0, 0, 0.3));\n",
              "      fill: #FFFFFF;\n",
              "    }\n",
              "  </style>\n",
              "\n",
              "      <script>\n",
              "        const buttonEl =\n",
              "          document.querySelector('#df-8f104ef5-d930-4b49-9988-2aef29028d94 button.colab-df-convert');\n",
              "        buttonEl.style.display =\n",
              "          google.colab.kernel.accessAllowed ? 'block' : 'none';\n",
              "\n",
              "        async function convertToInteractive(key) {\n",
              "          const element = document.querySelector('#df-8f104ef5-d930-4b49-9988-2aef29028d94');\n",
              "          const dataTable =\n",
              "            await google.colab.kernel.invokeFunction('convertToInteractive',\n",
              "                                                     [key], {});\n",
              "          if (!dataTable) return;\n",
              "\n",
              "          const docLinkHtml = 'Like what you see? Visit the ' +\n",
              "            '<a target=\"_blank\" href=https://colab.research.google.com/notebooks/data_table.ipynb>data table notebook</a>'\n",
              "            + ' to learn more about interactive tables.';\n",
              "          element.innerHTML = '';\n",
              "          dataTable['output_type'] = 'display_data';\n",
              "          await google.colab.output.renderOutput(dataTable, element);\n",
              "          const docLink = document.createElement('div');\n",
              "          docLink.innerHTML = docLinkHtml;\n",
              "          element.appendChild(docLink);\n",
              "        }\n",
              "      </script>\n",
              "    </div>\n",
              "  </div>\n",
              "  "
            ]
          },
          "metadata": {},
          "execution_count": 113
        }
      ]
    },
    {
      "cell_type": "markdown",
      "source": [
        "Note: \n",
        "\n",
        "- Blue represents Validation Curve\n",
        "\n",
        "- Orange represents Train Curve"
      ],
      "metadata": {
        "id": "SidNVzeqlzwd"
      }
    },
    {
      "cell_type": "markdown",
      "source": [
        "![Screenshot 2022-07-19 180534 mod acc.png](data:image/png;base64,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)"
      ],
      "metadata": {
        "id": "QMNCJh4XkVem"
      }
    },
    {
      "cell_type": "markdown",
      "source": [
        "![Screenshot 2022-07-14 050848 mod auc.png](data:image/png;base64,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)"
      ],
      "metadata": {
        "id": "u52pSTJqkVQw"
      }
    },
    {
      "cell_type": "markdown",
      "source": [
        "![Screenshot 2022-07-14 050924 mod loss.png](data:image/png;base64,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)"
      ],
      "metadata": {
        "id": "77kM_1qNkVDy"
      }
    },
    {
      "cell_type": "markdown",
      "source": [
        "Observations: \n",
        "\n",
        "Note: We are referencing first epoch as 0th, second as 1st, and so on.\n",
        "\n",
        "- Use of Dropout sets a portion of features to 0 during training however during testing all the features are used which leads to better performance on Test set compared to Train set. Hence, the difference can be observed in above performance graphs. *refer - https://www.quora.com/How-can-I-explain-the-fact-that-test-accuracy-is-much-higher-than-train-accuracy*\n",
        "\n",
        "- Train Accuracy and Test Accuracy are fluctuating but follow an increasing fashion overall.\n",
        "\n",
        "- Train AUC and Test AUC monotonically increase with each epoch.\n",
        "\n",
        "- Train Loss continues to decrease every epoch while Test Loss is fluctuating but follows a decreasing fashion overall. \n",
        "\n",
        "- Overall Best Model is achieved at 66th Epoch with performance on Val: Acc=0.895, AUC=0.9555, Loss=0.27"
      ],
      "metadata": {
        "id": "2YRfRnZzl_T1"
      }
    },
    {
      "cell_type": "markdown",
      "metadata": {
        "id": "kcILeYZI9pxm"
      },
      "source": [
        "<Pre><font size=6>6.Creating a Data pipeline for BERT Model</font> \n",
        "1. Pipeline is a way to codify and automate the workflow.\n",
        "2. Load the test.csv file</pre>\n"
      ]
    },
    {
      "cell_type": "code",
      "metadata": {
        "id": "kwv_BIV9xWt7",
        "colab": {
          "base_uri": "https://localhost:8080/"
        },
        "outputId": "7e31f601-0d67-4366-cea1-2173c77057e9"
      },
      "source": [
        "!gdown --id 1QwjqTsqTX2vdy7fTmeXjxP3dq8IAVLpo"
      ],
      "execution_count": null,
      "outputs": [
        {
          "output_type": "stream",
          "name": "stdout",
          "text": [
            "/usr/local/lib/python3.7/dist-packages/gdown/cli.py:131: FutureWarning: Option `--id` was deprecated in version 4.3.1 and will be removed in 5.0. You don't need to pass it anymore to use a file ID.\n",
            "  category=FutureWarning,\n",
            "Downloading...\n",
            "From: https://drive.google.com/uc?id=1QwjqTsqTX2vdy7fTmeXjxP3dq8IAVLpo\n",
            "To: /content/test.csv\n",
            "100% 62.1k/62.1k [00:00<00:00, 65.9MB/s]\n"
          ]
        }
      ]
    },
    {
      "cell_type": "code",
      "metadata": {
        "id": "lQcoHbUKjgvF"
      },
      "source": [
        "#read the csv file\n",
        "test_df= pd.read_csv('test.csv')"
      ],
      "execution_count": null,
      "outputs": []
    },
    {
      "cell_type": "code",
      "source": [
        "#load trained model\n",
        "from tensorflow.keras.models import load_model\n",
        "model = load_model('weights-67-0.9555.hdf5', custom_objects = {'auc_roc': auc_roc})"
      ],
      "metadata": {
        "id": "6kS8XdEIKCFE"
      },
      "execution_count": null,
      "outputs": []
    },
    {
      "cell_type": "code",
      "metadata": {
        "id": "g9g6C_kgjcan"
      },
      "source": [
        "def pipeline(data, trained_model):\n",
        "    '''takes the test_df,trained model and the required parameters as input and \n",
        "    Return the occurences of class labels from the function. The output should be the count of datapoints classified as 1 or 0.'''\n",
        "\n",
        "    #remove HTML tags\n",
        "    data['Text'] = data['Text'].apply(lambda x: \" \".join(re.sub('<.*?>', '', x).split()))\n",
        "\n",
        "    #perform tokenization\n",
        "    data_arr = np.array(list(map(lambda x: tokenizer_ops(x), data['Text'].values)))\n",
        "    \n",
        "    data_tokens = data_arr[:,0,:]\n",
        "    data_mask = data_arr[:,1,:]\n",
        "    data_segment = data_arr[:,2,:]\n",
        "\n",
        "    #obtain pooled output from BERT Model\n",
        "    data_pooled_output = bert_model.predict([data_tokens,data_mask,data_segment])\n",
        "    print(\"Shape of BERT Model output: \", data_pooled_output.shape)\n",
        "\n",
        "    #pass the pooled output to NN to obtain probability score \n",
        "    score = model.predict(data_pooled_output)\n",
        "    label = np.array([1 if (x>=0.5) else 0 for x in score])\n",
        "\n",
        "    #count the occurence of each class in list of predicted values\n",
        "    counts = np.unique(label, return_counts=True)\n",
        "    counts_dict = {}\n",
        "\n",
        "    for i in range(2):\n",
        "        counts_dict[i] = counts[1][i]\n",
        "\n",
        "    return counts_dict"
      ],
      "execution_count": null,
      "outputs": []
    },
    {
      "cell_type": "code",
      "source": [
        "counts_dict = pipeline(test_df, model)"
      ],
      "metadata": {
        "colab": {
          "base_uri": "https://localhost:8080/"
        },
        "id": "ZXI6VdMzYxCC",
        "outputId": "74849324-856e-4343-8adf-10b6432a0a76"
      },
      "execution_count": null,
      "outputs": [
        {
          "output_type": "stream",
          "name": "stdout",
          "text": [
            "Shape of BERT Model output:  (352, 768)\n"
          ]
        }
      ]
    },
    {
      "cell_type": "code",
      "source": [
        "counts_dict"
      ],
      "metadata": {
        "colab": {
          "base_uri": "https://localhost:8080/"
        },
        "id": "d8LVM2TxjVL5",
        "outputId": "57a2d3e3-ccf5-4b5a-ce81-2bc1b34af261"
      },
      "execution_count": null,
      "outputs": [
        {
          "output_type": "execute_result",
          "data": {
            "text/plain": [
              "{0: 74, 1: 278}"
            ]
          },
          "metadata": {},
          "execution_count": 79
        }
      ]
    },
    {
      "cell_type": "markdown",
      "source": [
        "**Approach(in detail)**: \n",
        "\n",
        "1. Data Preprocessing Steps: \n",
        "\n",
        "    - Convert Scores into Binary values\n",
        "    \n",
        "    - Remove Reviews greater than 50 words\n",
        "    \n",
        "    - Remove HTML Tags from reviews\n",
        "\n",
        "2. Split the Data into Train and Test\n",
        "3. Build a BERT Model:\n",
        "\n",
        "    - Create Sequence Input, Mask Input, and Segment Input layers\n",
        "    \n",
        "    - Load Pretrained Bert Layer from Tensorflow Hub, connect to Input layers\n",
        "\n",
        "4. Tokenisation and Padding of Text\n",
        "5. Create Sequence, Mask and Segment Arrays from Text Data \n",
        "6. Pass the arrays through BERT Model to get in return a pooled output which is a 768-dim vector embedding of '[CLS]' token for each sentence \n",
        "7. Build a Neural Network which consists of last layer as 'Sigmoid' activation \n",
        "8. Pass the output from BERT Model into a Neural Network \n",
        "9. Train the network to optimize AUC metric\n",
        "10. Save the best model \n",
        "11. Create a custom pipeline which inputs the raw data, conducts preprocessing, passes model ready data through trained model and returns the predicted values"
      ],
      "metadata": {
        "id": "Zx2OUAJB0q-U"
      }
    }
  ]
}